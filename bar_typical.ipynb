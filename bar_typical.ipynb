{
 "cells": [
  {
   "cell_type": "code",
   "execution_count": 1,
   "id": "8051b9d4-19ec-48e2-ba06-5dc10d7e27cc",
   "metadata": {},
   "outputs": [
    {
     "name": "stderr",
     "output_type": "stream",
     "text": [
      "Top level ::CompositeIO is deprecated, require 'multipart/post' and use `Multipart::Post::CompositeReadIO` instead!\n",
      "Top level ::Parts is deprecated, require 'multipart/post' and use `Multipart::Post::Parts` instead!\n"
     ]
    },
    {
     "data": {
      "text/plain": [
       "false"
      ]
     },
     "execution_count": 1,
     "metadata": {},
     "output_type": "execute_result"
    }
   ],
   "source": [
    "#gem 'openstudio-analysis', :path => \"C:/Ruby27-x64/lib/ruby/gems/2.7.0/gems/openstudio-analysis-1.3.2\"\n",
    "require 'openstudio-analysis'\n",
    "require 'openstudio'"
   ]
  },
  {
   "cell_type": "code",
   "execution_count": 2,
   "id": "e04468d9-ef22-4f2b-8570-4d04f8866797",
   "metadata": {},
   "outputs": [
    {
     "data": {
      "text/plain": [
       "\"1.3.2\""
      ]
     },
     "execution_count": 2,
     "metadata": {},
     "output_type": "execute_result"
    }
   ],
   "source": [
    "OpenStudio::Analysis::VERSION"
   ]
  },
  {
   "cell_type": "code",
   "execution_count": 3,
   "id": "1aaec77f-4f72-4f7b-8159-de20317a5407",
   "metadata": {},
   "outputs": [
    {
     "data": {
      "text/plain": [
       "0"
      ]
     },
     "execution_count": 3,
     "metadata": {},
     "output_type": "execute_result"
    }
   ],
   "source": [
    "Dir.chdir \"workflows/bar_typical\""
   ]
  },
  {
   "cell_type": "code",
   "execution_count": 4,
   "id": "b8518791-afe9-4cdf-9f49-3f3e428c6fa6",
   "metadata": {},
   "outputs": [
    {
     "data": {
      "text/plain": [
       "#<OpenStudio::Analysis::Formulation:0x000000000d40fe90 @display_name=\"Bar Typical\", @analysis_type=nil, @outputs=[], @workflow=#<OpenStudio::Analysis::Workflow:0x000000000d40fe40 @items=[]>, @weather_file=#<struct OpenStudio::Analysis::WeatherFile file=nil>, @seed_model=#<struct OpenStudio::Analysis::SeedModel file=nil>, @algorithm=#<OpenStudio::Analysis::AlgorithmAttributes:0x000000000d40fda0 @attributes={:seed=>nil, :failed_f_value=>1000000000000000000, :debug_messages=>1}>, @weather_files=#<OpenStudio::Analysis::SupportFiles:0x000000000d40fd50 @files=[]>, @seed_models=#<OpenStudio::Analysis::SupportFiles:0x000000000d40fd00 @files=[]>, @worker_inits=#<OpenStudio::Analysis::SupportFiles:0x000000000d40fcb0 @files=[]>, @worker_finalizes=#<OpenStudio::Analysis::SupportFiles:0x000000000d40fc60 @files=[]>, @libraries=#<OpenStudio::Analysis::SupportFiles:0x000000000d40fc10 @files=[]>, @server_scripts=#<OpenStudio::Analysis::ServerScripts:0x000000000d40fbc0 @files=[]>>"
      ]
     },
     "execution_count": 4,
     "metadata": {},
     "output_type": "execute_result"
    },
    {
     "name": "stderr",
     "output_type": "stream",
     "text": [
      "Could not resolve a valid weather file. Check paths to weather files\n"
     ]
    }
   ],
   "source": [
    "analysis = OpenStudio::Analysis.create('Bar Typical')\n"
   ]
  },
  {
   "cell_type": "code",
   "execution_count": 5,
   "id": "56970884-f6f7-4ff0-959a-d9b43d4350e8",
   "metadata": {},
   "outputs": [
    {
     "data": {
      "text/plain": [
       "[\"C:/Projects/osw_to_osa/.bundle/install/ruby/2.7.0/gems/openstudio-model-articulation-0.7.0/lib/measures\", \"C:/Projects/osw_to_osa/.bundle/install/ruby/2.7.0/gems/openstudio-common-measures-0.7.0/lib/measures\"]"
      ]
     },
     "execution_count": 5,
     "metadata": {},
     "output_type": "execute_result"
    }
   ],
   "source": [
    "paths = [\n",
    "'C:/Projects/osw_to_osa/.bundle/install/ruby/2.7.0/gems/openstudio-model-articulation-0.7.0/lib/measures',\n",
    "'C:/Projects/osw_to_osa/.bundle/install/ruby/2.7.0/gems/openstudio-common-measures-0.7.0/lib/measures'    \n",
    "]"
   ]
  },
  {
   "cell_type": "code",
   "execution_count": 6,
   "id": "a0269456-51ec-44b2-8f97-4b5992f263ac",
   "metadata": {},
   "outputs": [
    {
     "name": "stdout",
     "output_type": "stream",
     "text": [
      "searching for seed at: C:/Projects/osw_to_osa/seeds/seed_empty.osm\n",
      "found seed_file: seed_empty.osm\n"
     ]
    },
    {
     "name": "stderr",
     "output_type": "stream",
     "text": [
      "osw[:weather_file] is not defined\n"
     ]
    },
    {
     "name": "stdout",
     "output_type": "stream",
     "text": [
      "measure_dir_name: ChangeBuildingLocation\n",
      "searching for xml's in: [\"C:/Projects/osw_to_osa/workflows/bar_typical/ChangeBuildingLocation/measure.xml\", \"C:/Projects/openstudio-common-measures-gem/lib/measures/ChangeBuildingLocation/measure.xml\", \"C:/Projects/openstudio-model-articulation-gem/lib/measures/ChangeBuildingLocation/measure.xml\", \"C:/Projects/osw_to_osa/.bundle/install/ruby/2.7.0/gems/openstudio-model-articulation-0.7.0/lib/measures/ChangeBuildingLocation/measure.xml\", \"C:/Projects/osw_to_osa/.bundle/install/ruby/2.7.0/gems/openstudio-common-measures-0.7.0/lib/measures/ChangeBuildingLocation/measure.xml\"]\n",
      "found xml: C:/Projects/osw_to_osa/.bundle/install/ruby/2.7.0/gems/openstudio-common-measures-0.7.0/lib/measures/ChangeBuildingLocation/measure.xml\n",
      "\n",
      "measure_dir_name: create_bar_from_doe_building_type_ratios\n",
      "searching for xml's in: [\"C:/Projects/osw_to_osa/workflows/bar_typical/create_bar_from_doe_building_type_ratios/measure.xml\", \"C:/Projects/openstudio-common-measures-gem/lib/measures/create_bar_from_doe_building_type_ratios/measure.xml\", \"C:/Projects/openstudio-model-articulation-gem/lib/measures/create_bar_from_doe_building_type_ratios/measure.xml\", \"C:/Projects/osw_to_osa/.bundle/install/ruby/2.7.0/gems/openstudio-model-articulation-0.7.0/lib/measures/create_bar_from_doe_building_type_ratios/measure.xml\", \"C:/Projects/osw_to_osa/.bundle/install/ruby/2.7.0/gems/openstudio-common-measures-0.7.0/lib/measures/create_bar_from_doe_building_type_ratios/measure.xml\"]\n",
      "found xml: C:/Projects/osw_to_osa/.bundle/install/ruby/2.7.0/gems/openstudio-model-articulation-0.7.0/lib/measures/create_bar_from_doe_building_type_ratios/measure.xml\n",
      "\n",
      "measure_dir_name: create_typical_doe_building_from_model\n",
      "searching for xml's in: [\"C:/Projects/osw_to_osa/workflows/bar_typical/create_typical_doe_building_from_model/measure.xml\", \"C:/Projects/openstudio-common-measures-gem/lib/measures/create_typical_doe_building_from_model/measure.xml\", \"C:/Projects/openstudio-model-articulation-gem/lib/measures/create_typical_doe_building_from_model/measure.xml\", \"C:/Projects/osw_to_osa/.bundle/install/ruby/2.7.0/gems/openstudio-model-articulation-0.7.0/lib/measures/create_typical_doe_building_from_model/measure.xml\", \"C:/Projects/osw_to_osa/.bundle/install/ruby/2.7.0/gems/openstudio-common-measures-0.7.0/lib/measures/create_typical_doe_building_from_model/measure.xml\"]\n",
      "found xml: C:/Projects/osw_to_osa/.bundle/install/ruby/2.7.0/gems/openstudio-model-articulation-0.7.0/lib/measures/create_typical_doe_building_from_model/measure.xml\n",
      "\n",
      "measure_dir_name: view_model\n",
      "searching for xml's in: [\"C:/Projects/osw_to_osa/workflows/bar_typical/view_model/measure.xml\", \"C:/Projects/openstudio-common-measures-gem/lib/measures/view_model/measure.xml\", \"C:/Projects/openstudio-model-articulation-gem/lib/measures/view_model/measure.xml\", \"C:/Projects/osw_to_osa/.bundle/install/ruby/2.7.0/gems/openstudio-model-articulation-0.7.0/lib/measures/view_model/measure.xml\", \"C:/Projects/osw_to_osa/.bundle/install/ruby/2.7.0/gems/openstudio-common-measures-0.7.0/lib/measures/view_model/measure.xml\"]\n",
      "found xml: C:/Projects/osw_to_osa/.bundle/install/ruby/2.7.0/gems/openstudio-common-measures-0.7.0/lib/measures/view_model/measure.xml\n",
      "\n",
      "measure_dir_name: add_rooftop_pv\n",
      "searching for xml's in: [\"C:/Projects/osw_to_osa/workflows/bar_typical/add_rooftop_pv/measure.xml\", \"C:/Projects/openstudio-common-measures-gem/lib/measures/add_rooftop_pv/measure.xml\", \"C:/Projects/openstudio-model-articulation-gem/lib/measures/add_rooftop_pv/measure.xml\", \"C:/Projects/osw_to_osa/.bundle/install/ruby/2.7.0/gems/openstudio-model-articulation-0.7.0/lib/measures/add_rooftop_pv/measure.xml\", \"C:/Projects/osw_to_osa/.bundle/install/ruby/2.7.0/gems/openstudio-common-measures-0.7.0/lib/measures/add_rooftop_pv/measure.xml\"]\n",
      "found xml: C:/Projects/osw_to_osa/.bundle/install/ruby/2.7.0/gems/openstudio-common-measures-0.7.0/lib/measures/add_rooftop_pv/measure.xml\n",
      "\n",
      "measure_dir_name: envelope_and_internal_load_breakdown\n",
      "searching for xml's in: [\"C:/Projects/osw_to_osa/workflows/bar_typical/envelope_and_internal_load_breakdown/measure.xml\", \"C:/Projects/openstudio-common-measures-gem/lib/measures/envelope_and_internal_load_breakdown/measure.xml\", \"C:/Projects/openstudio-model-articulation-gem/lib/measures/envelope_and_internal_load_breakdown/measure.xml\", \"C:/Projects/osw_to_osa/.bundle/install/ruby/2.7.0/gems/openstudio-model-articulation-0.7.0/lib/measures/envelope_and_internal_load_breakdown/measure.xml\", \"C:/Projects/osw_to_osa/.bundle/install/ruby/2.7.0/gems/openstudio-common-measures-0.7.0/lib/measures/envelope_and_internal_load_breakdown/measure.xml\"]\n",
      "found xml: C:/Projects/osw_to_osa/.bundle/install/ruby/2.7.0/gems/openstudio-common-measures-0.7.0/lib/measures/envelope_and_internal_load_breakdown/measure.xml\n",
      "\n",
      "measure_dir_name: openstudio_results\n",
      "searching for xml's in: [\"C:/Projects/osw_to_osa/workflows/bar_typical/openstudio_results/measure.xml\", \"C:/Projects/openstudio-common-measures-gem/lib/measures/openstudio_results/measure.xml\", \"C:/Projects/openstudio-model-articulation-gem/lib/measures/openstudio_results/measure.xml\", \"C:/Projects/osw_to_osa/.bundle/install/ruby/2.7.0/gems/openstudio-model-articulation-0.7.0/lib/measures/openstudio_results/measure.xml\", \"C:/Projects/osw_to_osa/.bundle/install/ruby/2.7.0/gems/openstudio-common-measures-0.7.0/lib/measures/openstudio_results/measure.xml\"]\n",
      "found xml: C:/Projects/osw_to_osa/.bundle/install/ruby/2.7.0/gems/openstudio-common-measures-0.7.0/lib/measures/openstudio_results/measure.xml\n",
      "\n"
     ]
    },
    {
     "data": {
      "text/plain": [
       "[{:arguments=>{:set_year=>\"2019\", :weather_file_name=>\"USA_IL_Chicago-OHare.Intl.AP.725300_TMY3.epw\"}, :measure_dir_name=>\"ChangeBuildingLocation\"}, {:arguments=>{:template=>\"90.1-2013\", :bldg_type_a=>\"SecondarySchool\", :total_bldg_floor_area=>\"210887\", :ns_to_ew_ratio=>\"0.0\", :num_stories_above_grade=>\"2.0\", :num_stories_below_grade=>\"0\", :make_mid_story_surfaces_adiabatic=>true}, :measure_dir_name=>\"create_bar_from_doe_building_type_ratios\"}, {:arguments=>{:__SKIP__=>false}, :measure_dir_name=>\"create_typical_doe_building_from_model\"}, {:arguments=>{:__SKIP__=>false}, :measure_dir_name=>\"view_model\"}, {:arguments=>{:__SKIP__=>false, :fraction_of_surface=>\"0.75\", :cell_efficiency=>\"0.1976\", :inverter_efficiency=>\"0.96\"}, :measure_dir_name=>\"add_rooftop_pv\"}, {:arguments=>{:__SKIP__=>false}, :measure_dir_name=>\"envelope_and_internal_load_breakdown\"}, {:arguments=>{:zone_condition_section=>false}, :measure_dir_name=>\"openstudio_results\"}]"
      ]
     },
     "execution_count": 6,
     "metadata": {},
     "output_type": "execute_result"
    }
   ],
   "source": [
    "analysis.convert_osw('in.osw', paths)"
   ]
  },
  {
   "cell_type": "code",
   "execution_count": 7,
   "id": "4a38cfb6-4732-4578-ba5f-c22709c07859",
   "metadata": {},
   "outputs": [
    {
     "data": {
      "text/plain": [
       "\"C:/Projects/osw_to_osa/weather/USA_IL_Chicago-OHare.Intl.AP.725300_TMY3.epw\""
      ]
     },
     "execution_count": 7,
     "metadata": {},
     "output_type": "execute_result"
    }
   ],
   "source": [
    "analysis.weather_file = 'C:/Projects/osw_to_osa/weather/USA_IL_Chicago-OHare.Intl.AP.725300_TMY3.epw'"
   ]
  },
  {
   "cell_type": "code",
   "execution_count": null,
   "id": "7f00f4aa-86c2-4b8a-9e0c-a8ad1f7d9ea9",
   "metadata": {},
   "outputs": [],
   "source": []
  },
  {
   "cell_type": "code",
   "execution_count": 8,
   "id": "17ce2650-3837-4d7a-94ae-b9234ae4d834",
   "metadata": {},
   "outputs": [
    {
     "data": {
      "text/plain": [
       "true"
      ]
     },
     "execution_count": 8,
     "metadata": {},
     "output_type": "execute_result"
    }
   ],
   "source": [
    "m = analysis.workflow.find_measure('add_rooftop_pv')\n",
    "m.argument_value(\"fraction_of_surface\", 0.75)"
   ]
  },
  {
   "cell_type": "code",
   "execution_count": 9,
   "id": "3ba721e8-28ee-4089-b918-5e67be46abca",
   "metadata": {},
   "outputs": [
    {
     "data": {
      "text/plain": [
       "true"
      ]
     },
     "execution_count": 9,
     "metadata": {},
     "output_type": "execute_result"
    }
   ],
   "source": [
    "m = analysis.workflow.find_measure('create_typical_doe_building_from_model')\n",
    "m.argument_value(\"use_upstream_args\", true)\n",
    "m.argument_value(\"system_type\", \"Inferred\")"
   ]
  },
  {
   "cell_type": "code",
   "execution_count": 10,
   "id": "f68fd69d-6861-4509-aa5b-bc758ce9a383",
   "metadata": {},
   "outputs": [
    {
     "data": {
      "text/plain": [
       "true"
      ]
     },
     "execution_count": 10,
     "metadata": {},
     "output_type": "execute_result"
    }
   ],
   "source": [
    "m = analysis.workflow.find_measure('create_bar_from_doe_building_type_ratios')\n",
    "m.argument_value(\"template\", \"90.1-2010\")\n",
    "m.argument_value(\"ns_to_ew_ratio\", 2.0)\n",
    "m.argument_value(\"bldg_type_a\", \"PrimarySchool\")\n",
    "m.argument_value(\"total_bldg_floor_area\", 100000)\n",
    "m.argument_value(\"num_stories_above_grade\", 1.0)\n",
    "m.argument_value(\"building_rotation\", 0.0)\n",
    "m.argument_value(\"perim_mult\", 1.0)\n",
    "m.argument_value(\"bar_sep_dist_mult\", 1.0)\n",
    "m.argument_value(\"wwr\", 0.3)"
   ]
  },
  {
   "cell_type": "code",
   "execution_count": 11,
   "id": "620965e1-e16b-4934-8db2-63aee2d03808",
   "metadata": {},
   "outputs": [
    {
     "data": {
      "text/plain": [
       "true"
      ]
     },
     "execution_count": 11,
     "metadata": {},
     "output_type": "execute_result"
    }
   ],
   "source": [
    "d = {\n",
    "      type: 'discrete',\n",
    "      minimum: \"90.1-2007\",\n",
    "      maximum: \"90.1-2019\",\n",
    "      mean: \"90.1-2007\",\n",
    "      values: [\"90.1-2007\", \"90.1-2010\", \"90.1-2013\", \"90.1-2016\", \"90.1-2019\"]\n",
    "    }\n",
    "m.make_variable('template', 'Template', d) \n"
   ]
  },
  {
   "cell_type": "code",
   "execution_count": 12,
   "id": "c667506a-fd4f-467b-8633-e1c6fc31ab7f",
   "metadata": {},
   "outputs": [
    {
     "data": {
      "text/plain": [
       "true"
      ]
     },
     "execution_count": 12,
     "metadata": {},
     "output_type": "execute_result"
    }
   ],
   "source": [
    "d = {\n",
    "      type: 'discrete',\n",
    "      minimum: 1.0,\n",
    "      maximum: 4.0,\n",
    "      mean: 2.0,\n",
    "      values: [1.0, 2.0, 3.0, 4.0]\n",
    "    }\n",
    "m.make_variable('num_stories_above_grade', 'Num Stories Above Grade', d) \n"
   ]
  },
  {
   "cell_type": "code",
   "execution_count": 13,
   "id": "202aba08-95d9-4dbd-a2ee-ad9da30324d0",
   "metadata": {},
   "outputs": [
    {
     "data": {
      "text/plain": [
       "true"
      ]
     },
     "execution_count": 13,
     "metadata": {},
     "output_type": "execute_result"
    }
   ],
   "source": [
    "d = {\n",
    "      type: 'discrete',\n",
    "      minimum: 0.0,\n",
    "      maximum: 90.0,\n",
    "      mean: 45.0,\n",
    "      values: [0.0, 15.0, 30.0, 45.0, 60.0, 75.0, 90.0]\n",
    "    }\n",
    "m.make_variable('building_rotation', 'Building Rotation', d) \n"
   ]
  },
  {
   "cell_type": "code",
   "execution_count": 14,
   "id": "a7bbd366-e338-420f-a769-51c0ecabdac2",
   "metadata": {},
   "outputs": [
    {
     "data": {
      "text/plain": [
       "true"
      ]
     },
     "execution_count": 14,
     "metadata": {},
     "output_type": "execute_result"
    }
   ],
   "source": [
    "d = {\n",
    "      type: 'discrete',\n",
    "      minimum: 1.0,\n",
    "      maximum: 3.0,\n",
    "      mean: 1.5,\n",
    "      values: [1.0, 1.25, 1.5, 2.0, 3.0]\n",
    "    }\n",
    "m.make_variable('perim_mult', 'Perimiter Multiplier', d)\n"
   ]
  },
  {
   "cell_type": "code",
   "execution_count": 15,
   "id": "9805e141-0e58-493c-8dfd-81d5ef330202",
   "metadata": {},
   "outputs": [
    {
     "data": {
      "text/plain": [
       "true"
      ]
     },
     "execution_count": 15,
     "metadata": {},
     "output_type": "execute_result"
    }
   ],
   "source": [
    "d = {\n",
    "      type: 'uniform',\n",
    "      minimum: 0.2,\n",
    "      maximum: 0.8,\n",
    "      mean: 0.5,\n",
    "    }\n",
    "m.make_variable('wwr', 'Window Wall Ratio', d) \n"
   ]
  },
  {
   "cell_type": "code",
   "execution_count": 16,
   "id": "7fb3807f-d7af-420d-8a9e-6cd5ec69bea8",
   "metadata": {},
   "outputs": [
    {
     "data": {
      "text/plain": [
       "true"
      ]
     },
     "execution_count": 16,
     "metadata": {},
     "output_type": "execute_result"
    }
   ],
   "source": [
    "d = {\n",
    "      type: 'uniform',\n",
    "      minimum: 0.25,\n",
    "      maximum: 4.0,\n",
    "      mean: 2.0,\n",
    "    }\n",
    "m.make_variable('ns_to_ew_ratio', 'NS to EW Ratio', d) \n"
   ]
  },
  {
   "cell_type": "code",
   "execution_count": null,
   "id": "608260f6-5e66-432c-ac7b-498119c31f72",
   "metadata": {},
   "outputs": [],
   "source": []
  },
  {
   "cell_type": "code",
   "execution_count": 17,
   "id": "02aff9fc-9fc7-41b3-a485-e54461206ecd",
   "metadata": {},
   "outputs": [
    {
     "data": {
      "text/plain": [
       "51791"
      ]
     },
     "execution_count": 17,
     "metadata": {},
     "output_type": "execute_result"
    }
   ],
   "source": [
    "File.write('analysis.json',JSON.pretty_generate(analysis.to_hash))"
   ]
  },
  {
   "cell_type": "code",
   "execution_count": 18,
   "id": "585ab0f1-8810-47f8-bf4d-34bc759bc4c5",
   "metadata": {},
   "outputs": [
    {
     "name": "stdout",
     "output_type": "stream",
     "text": [
      "osw_path: C:/Projects/osw_to_osa/workflows/bar_typical/in.osw\n",
      "osw_full_path: C:/Projects/osw_to_osa/workflows/bar_typical\n",
      "Adding Support Files: Weather\n",
      "  Adding C:/Projects/osw_to_osa/weather/USA_IL_Chicago-OHare.Intl.AP.725300_TMY3.epw\n",
      "base_name: USA_IL_Chicago-OHare.Intl.AP.725300_TMY3\n",
      "weather_dirname: C:/Projects/osw_to_osa/weather\n",
      "file_path: C:/Projects/osw_to_osa/weather/USA_IL_Chicago-OHare.Intl.AP.725300_TMY3.ddy\n",
      "zip path: weather/USA_IL_Chicago-OHare.Intl.AP.725300_TMY3.ddy\n",
      "file_path: C:/Projects/osw_to_osa/weather/USA_IL_Chicago-OHare.Intl.AP.725300_TMY3.epw\n",
      "zip path: weather/USA_IL_Chicago-OHare.Intl.AP.725300_TMY3.epw\n",
      "file_path: C:/Projects/osw_to_osa/weather/USA_IL_Chicago-OHare.Intl.AP.725300_TMY3.stat\n",
      "zip path: weather/USA_IL_Chicago-OHare.Intl.AP.725300_TMY3.stat\n",
      "Adding Support Files: Seed Models\n",
      "  Adding C:/Projects/osw_to_osa/seeds/seed_empty.osm\n",
      "Adding Support Files: Libraries\n",
      "Adding Support Files: Server Scripts\n",
      "Adding Measures\n",
      "  Adding ChangeBuildingLocation\n",
      "    Adding File C:/Projects/osw_to_osa/.bundle/install/ruby/2.7.0/gems/openstudio-common-measures-0.7.0/lib/measures/ChangeBuildingLocation/LICENSE.md\n",
      "    Adding File C:/Projects/osw_to_osa/.bundle/install/ruby/2.7.0/gems/openstudio-common-measures-0.7.0/lib/measures/ChangeBuildingLocation/measure.rb\n",
      "    Adding File C:/Projects/osw_to_osa/.bundle/install/ruby/2.7.0/gems/openstudio-common-measures-0.7.0/lib/measures/ChangeBuildingLocation/measure.xml\n",
      "    Adding File C:/Projects/osw_to_osa/.bundle/install/ruby/2.7.0/gems/openstudio-common-measures-0.7.0/lib/measures/ChangeBuildingLocation/README.md\n",
      "    Adding File C:/Projects/osw_to_osa/.bundle/install/ruby/2.7.0/gems/openstudio-common-measures-0.7.0/lib/measures/ChangeBuildingLocation/README.md.erb\n",
      "Add Directory C:/Projects/osw_to_osa/.bundle/install/ruby/2.7.0/gems/openstudio-common-measures-0.7.0/lib/measures/ChangeBuildingLocation/resources\n",
      "Adding File C:/Projects/osw_to_osa/.bundle/install/ruby/2.7.0/gems/openstudio-common-measures-0.7.0/lib/measures/ChangeBuildingLocation/resources/epw.rb\n",
      "Adding File C:/Projects/osw_to_osa/.bundle/install/ruby/2.7.0/gems/openstudio-common-measures-0.7.0/lib/measures/ChangeBuildingLocation/resources/stat_file.rb\n",
      "  Adding create_bar_from_doe_building_type_ratios\n",
      "    Adding File C:/Projects/osw_to_osa/.bundle/install/ruby/2.7.0/gems/openstudio-model-articulation-0.7.0/lib/measures/create_bar_from_doe_building_type_ratios/LICENSE.md\n",
      "    Adding File C:/Projects/osw_to_osa/.bundle/install/ruby/2.7.0/gems/openstudio-model-articulation-0.7.0/lib/measures/create_bar_from_doe_building_type_ratios/measure.rb\n",
      "    Adding File C:/Projects/osw_to_osa/.bundle/install/ruby/2.7.0/gems/openstudio-model-articulation-0.7.0/lib/measures/create_bar_from_doe_building_type_ratios/measure.xml\n",
      "    Adding File C:/Projects/osw_to_osa/.bundle/install/ruby/2.7.0/gems/openstudio-model-articulation-0.7.0/lib/measures/create_bar_from_doe_building_type_ratios/README.md\n",
      "    Adding File C:/Projects/osw_to_osa/.bundle/install/ruby/2.7.0/gems/openstudio-model-articulation-0.7.0/lib/measures/create_bar_from_doe_building_type_ratios/README.md.erb\n",
      "  Adding create_typical_doe_building_from_model\n",
      "    Adding File C:/Projects/osw_to_osa/.bundle/install/ruby/2.7.0/gems/openstudio-model-articulation-0.7.0/lib/measures/create_typical_doe_building_from_model/LICENSE.md\n",
      "    Adding File C:/Projects/osw_to_osa/.bundle/install/ruby/2.7.0/gems/openstudio-model-articulation-0.7.0/lib/measures/create_typical_doe_building_from_model/measure.rb\n",
      "    Adding File C:/Projects/osw_to_osa/.bundle/install/ruby/2.7.0/gems/openstudio-model-articulation-0.7.0/lib/measures/create_typical_doe_building_from_model/measure.xml\n",
      "    Adding File C:/Projects/osw_to_osa/.bundle/install/ruby/2.7.0/gems/openstudio-model-articulation-0.7.0/lib/measures/create_typical_doe_building_from_model/README.md\n",
      "    Adding File C:/Projects/osw_to_osa/.bundle/install/ruby/2.7.0/gems/openstudio-model-articulation-0.7.0/lib/measures/create_typical_doe_building_from_model/README.md.erb\n",
      "Add Directory C:/Projects/osw_to_osa/.bundle/install/ruby/2.7.0/gems/openstudio-model-articulation-0.7.0/lib/measures/create_typical_doe_building_from_model/resources\n",
      "Adding File C:/Projects/osw_to_osa/.bundle/install/ruby/2.7.0/gems/openstudio-model-articulation-0.7.0/lib/measures/create_typical_doe_building_from_model/resources/Model.hvac.rb\n",
      "  Adding view_model\n",
      "    Adding File C:/Projects/osw_to_osa/.bundle/install/ruby/2.7.0/gems/openstudio-common-measures-0.7.0/lib/measures/view_model/LICENSE.md\n",
      "    Adding File C:/Projects/osw_to_osa/.bundle/install/ruby/2.7.0/gems/openstudio-common-measures-0.7.0/lib/measures/view_model/measure.rb\n",
      "    Adding File C:/Projects/osw_to_osa/.bundle/install/ruby/2.7.0/gems/openstudio-common-measures-0.7.0/lib/measures/view_model/measure.xml\n",
      "    Adding File C:/Projects/osw_to_osa/.bundle/install/ruby/2.7.0/gems/openstudio-common-measures-0.7.0/lib/measures/view_model/README.md\n",
      "    Adding File C:/Projects/osw_to_osa/.bundle/install/ruby/2.7.0/gems/openstudio-common-measures-0.7.0/lib/measures/view_model/README.md.erb\n",
      "Add Directory C:/Projects/osw_to_osa/.bundle/install/ruby/2.7.0/gems/openstudio-common-measures-0.7.0/lib/measures/view_model/resources\n",
      "Adding File C:/Projects/osw_to_osa/.bundle/install/ruby/2.7.0/gems/openstudio-common-measures-0.7.0/lib/measures/view_model/resources/report.html.in\n",
      "Adding File C:/Projects/osw_to_osa/.bundle/install/ruby/2.7.0/gems/openstudio-common-measures-0.7.0/lib/measures/view_model/resources/va3c.rb\n",
      "  Adding add_rooftop_pv\n",
      "    Adding File C:/Projects/osw_to_osa/.bundle/install/ruby/2.7.0/gems/openstudio-common-measures-0.7.0/lib/measures/add_rooftop_pv/LICENSE.md\n",
      "    Adding File C:/Projects/osw_to_osa/.bundle/install/ruby/2.7.0/gems/openstudio-common-measures-0.7.0/lib/measures/add_rooftop_pv/measure.rb\n",
      "    Adding File C:/Projects/osw_to_osa/.bundle/install/ruby/2.7.0/gems/openstudio-common-measures-0.7.0/lib/measures/add_rooftop_pv/measure.xml\n",
      "    Adding File C:/Projects/osw_to_osa/.bundle/install/ruby/2.7.0/gems/openstudio-common-measures-0.7.0/lib/measures/add_rooftop_pv/README.md\n",
      "    Adding File C:/Projects/osw_to_osa/.bundle/install/ruby/2.7.0/gems/openstudio-common-measures-0.7.0/lib/measures/add_rooftop_pv/README.md.erb\n",
      "  Adding envelope_and_internal_load_breakdown\n",
      "    Adding File C:/Projects/osw_to_osa/.bundle/install/ruby/2.7.0/gems/openstudio-common-measures-0.7.0/lib/measures/envelope_and_internal_load_breakdown/LICENSE.md\n",
      "    Adding File C:/Projects/osw_to_osa/.bundle/install/ruby/2.7.0/gems/openstudio-common-measures-0.7.0/lib/measures/envelope_and_internal_load_breakdown/measure.rb\n",
      "    Adding File C:/Projects/osw_to_osa/.bundle/install/ruby/2.7.0/gems/openstudio-common-measures-0.7.0/lib/measures/envelope_and_internal_load_breakdown/measure.xml\n",
      "    Adding File C:/Projects/osw_to_osa/.bundle/install/ruby/2.7.0/gems/openstudio-common-measures-0.7.0/lib/measures/envelope_and_internal_load_breakdown/README.md\n",
      "    Adding File C:/Projects/osw_to_osa/.bundle/install/ruby/2.7.0/gems/openstudio-common-measures-0.7.0/lib/measures/envelope_and_internal_load_breakdown/README.md.erb\n",
      "Add Directory C:/Projects/osw_to_osa/.bundle/install/ruby/2.7.0/gems/openstudio-common-measures-0.7.0/lib/measures/envelope_and_internal_load_breakdown/resources\n",
      "Adding File C:/Projects/osw_to_osa/.bundle/install/ruby/2.7.0/gems/openstudio-common-measures-0.7.0/lib/measures/envelope_and_internal_load_breakdown/resources/os_lib_reporting_envelope_and_internal_loads_breakdown.rb\n",
      "Adding File C:/Projects/osw_to_osa/.bundle/install/ruby/2.7.0/gems/openstudio-common-measures-0.7.0/lib/measures/envelope_and_internal_load_breakdown/resources/report.html.erb\n",
      "  Adding openstudio_results\n",
      "    Adding File C:/Projects/osw_to_osa/.bundle/install/ruby/2.7.0/gems/openstudio-common-measures-0.7.0/lib/measures/openstudio_results/LICENSE.md\n",
      "    Adding File C:/Projects/osw_to_osa/.bundle/install/ruby/2.7.0/gems/openstudio-common-measures-0.7.0/lib/measures/openstudio_results/measure.rb\n",
      "    Adding File C:/Projects/osw_to_osa/.bundle/install/ruby/2.7.0/gems/openstudio-common-measures-0.7.0/lib/measures/openstudio_results/measure.xml\n",
      "    Adding File C:/Projects/osw_to_osa/.bundle/install/ruby/2.7.0/gems/openstudio-common-measures-0.7.0/lib/measures/openstudio_results/README.md\n",
      "    Adding File C:/Projects/osw_to_osa/.bundle/install/ruby/2.7.0/gems/openstudio-common-measures-0.7.0/lib/measures/openstudio_results/README.md.erb\n",
      "Add Directory C:/Projects/osw_to_osa/.bundle/install/ruby/2.7.0/gems/openstudio-common-measures-0.7.0/lib/measures/openstudio_results/resources\n",
      "Adding File C:/Projects/osw_to_osa/.bundle/install/ruby/2.7.0/gems/openstudio-common-measures-0.7.0/lib/measures/openstudio_results/resources/os_lib_reporting.rb\n",
      "Adding File C:/Projects/osw_to_osa/.bundle/install/ruby/2.7.0/gems/openstudio-common-measures-0.7.0/lib/measures/openstudio_results/resources/report.html.erb\n",
      "Adding File C:/Projects/osw_to_osa/.bundle/install/ruby/2.7.0/gems/openstudio-common-measures-0.7.0/lib/measures/openstudio_results/resources/Siz.AirConditionerVariableRefrigerantFlow.rb\n",
      "Adding File C:/Projects/osw_to_osa/.bundle/install/ruby/2.7.0/gems/openstudio-common-measures-0.7.0/lib/measures/openstudio_results/resources/Siz.AirLoopHVAC.rb\n",
      "Adding File C:/Projects/osw_to_osa/.bundle/install/ruby/2.7.0/gems/openstudio-common-measures-0.7.0/lib/measures/openstudio_results/resources/Siz.AirLoopHVACUnitaryHeatCoolVAVChangeoverBypass.rb\n",
      "Adding File C:/Projects/osw_to_osa/.bundle/install/ruby/2.7.0/gems/openstudio-common-measures-0.7.0/lib/measures/openstudio_results/resources/Siz.AirLoopHVACUnitaryHeatPumpAirToAir.rb\n",
      "Adding File C:/Projects/osw_to_osa/.bundle/install/ruby/2.7.0/gems/openstudio-common-measures-0.7.0/lib/measures/openstudio_results/resources/Siz.AirLoopHVACUnitaryHeatPumpAirToAirMultiSpeed.rb\n",
      "Adding File C:/Projects/osw_to_osa/.bundle/install/ruby/2.7.0/gems/openstudio-common-measures-0.7.0/lib/measures/openstudio_results/resources/Siz.AirLoopHVACUnitarySystem.rb\n",
      "Adding File C:/Projects/osw_to_osa/.bundle/install/ruby/2.7.0/gems/openstudio-common-measures-0.7.0/lib/measures/openstudio_results/resources/Siz.AirTerminalDualDuctVAV.rb\n",
      "Adding File C:/Projects/osw_to_osa/.bundle/install/ruby/2.7.0/gems/openstudio-common-measures-0.7.0/lib/measures/openstudio_results/resources/Siz.AirTerminalSingleDuctConstantVolumeCooledBeam.rb\n",
      "Adding File C:/Projects/osw_to_osa/.bundle/install/ruby/2.7.0/gems/openstudio-common-measures-0.7.0/lib/measures/openstudio_results/resources/Siz.AirTerminalSingleDuctConstantVolumeFourPipeInduction.rb\n",
      "Adding File C:/Projects/osw_to_osa/.bundle/install/ruby/2.7.0/gems/openstudio-common-measures-0.7.0/lib/measures/openstudio_results/resources/Siz.AirTerminalSingleDuctConstantVolumeReheat.rb\n",
      "Adding File C:/Projects/osw_to_osa/.bundle/install/ruby/2.7.0/gems/openstudio-common-measures-0.7.0/lib/measures/openstudio_results/resources/Siz.AirTerminalSingleDuctParallelPIUReheat.rb\n",
      "Adding File C:/Projects/osw_to_osa/.bundle/install/ruby/2.7.0/gems/openstudio-common-measures-0.7.0/lib/measures/openstudio_results/resources/Siz.AirTerminalSingleDuctSeriesPIUReheat.rb\n",
      "Adding File C:/Projects/osw_to_osa/.bundle/install/ruby/2.7.0/gems/openstudio-common-measures-0.7.0/lib/measures/openstudio_results/resources/Siz.AirTerminalSingleDuctUncontrolled.rb\n",
      "Adding File C:/Projects/osw_to_osa/.bundle/install/ruby/2.7.0/gems/openstudio-common-measures-0.7.0/lib/measures/openstudio_results/resources/Siz.AirTerminalSingleDuctVAVHeatAndCoolNoReheat.rb\n",
      "Adding File C:/Projects/osw_to_osa/.bundle/install/ruby/2.7.0/gems/openstudio-common-measures-0.7.0/lib/measures/openstudio_results/resources/Siz.AirTerminalSingleDuctVAVHeatAndCoolReheat.rb\n",
      "Adding File C:/Projects/osw_to_osa/.bundle/install/ruby/2.7.0/gems/openstudio-common-measures-0.7.0/lib/measures/openstudio_results/resources/Siz.AirTerminalSingleDuctVAVNoReheat.rb\n",
      "Adding File C:/Projects/osw_to_osa/.bundle/install/ruby/2.7.0/gems/openstudio-common-measures-0.7.0/lib/measures/openstudio_results/resources/Siz.AirTerminalSingleDuctVAVReheat.rb\n",
      "Adding File C:/Projects/osw_to_osa/.bundle/install/ruby/2.7.0/gems/openstudio-common-measures-0.7.0/lib/measures/openstudio_results/resources/Siz.BoilerHotWater.rb\n",
      "Adding File C:/Projects/osw_to_osa/.bundle/install/ruby/2.7.0/gems/openstudio-common-measures-0.7.0/lib/measures/openstudio_results/resources/Siz.BoilerSteam.rb\n",
      "Adding File C:/Projects/osw_to_osa/.bundle/install/ruby/2.7.0/gems/openstudio-common-measures-0.7.0/lib/measures/openstudio_results/resources/Siz.ChillerAbsorption.rb\n",
      "Adding File C:/Projects/osw_to_osa/.bundle/install/ruby/2.7.0/gems/openstudio-common-measures-0.7.0/lib/measures/openstudio_results/resources/Siz.ChillerAbsorptionIndirect.rb\n",
      "Adding File C:/Projects/osw_to_osa/.bundle/install/ruby/2.7.0/gems/openstudio-common-measures-0.7.0/lib/measures/openstudio_results/resources/Siz.ChillerElectricEIR.rb\n",
      "Adding File C:/Projects/osw_to_osa/.bundle/install/ruby/2.7.0/gems/openstudio-common-measures-0.7.0/lib/measures/openstudio_results/resources/Siz.ChillerHeaterPerformanceElectricEIR.rb\n",
      "Adding File C:/Projects/osw_to_osa/.bundle/install/ruby/2.7.0/gems/openstudio-common-measures-0.7.0/lib/measures/openstudio_results/resources/Siz.CoilCoolingDXMultiSpeed.rb\n",
      "Adding File C:/Projects/osw_to_osa/.bundle/install/ruby/2.7.0/gems/openstudio-common-measures-0.7.0/lib/measures/openstudio_results/resources/Siz.CoilCoolingDXMultiSpeedStageData.rb\n",
      "Adding File C:/Projects/osw_to_osa/.bundle/install/ruby/2.7.0/gems/openstudio-common-measures-0.7.0/lib/measures/openstudio_results/resources/Siz.CoilCoolingDXSingleSpeed.rb\n",
      "Adding File C:/Projects/osw_to_osa/.bundle/install/ruby/2.7.0/gems/openstudio-common-measures-0.7.0/lib/measures/openstudio_results/resources/Siz.CoilCoolingDXTwoSpeed.rb\n",
      "Adding File C:/Projects/osw_to_osa/.bundle/install/ruby/2.7.0/gems/openstudio-common-measures-0.7.0/lib/measures/openstudio_results/resources/Siz.CoilCoolingDXTwoStageWithHumidityControlMode.rb\n",
      "Adding File C:/Projects/osw_to_osa/.bundle/install/ruby/2.7.0/gems/openstudio-common-measures-0.7.0/lib/measures/openstudio_results/resources/Siz.CoilCoolingDXVariableRefrigerantFlow.rb\n",
      "Adding File C:/Projects/osw_to_osa/.bundle/install/ruby/2.7.0/gems/openstudio-common-measures-0.7.0/lib/measures/openstudio_results/resources/Siz.CoilCoolingDXVariableSpeed.rb\n",
      "Adding File C:/Projects/osw_to_osa/.bundle/install/ruby/2.7.0/gems/openstudio-common-measures-0.7.0/lib/measures/openstudio_results/resources/Siz.CoilCoolingDXVariableSpeedSpeedData.rb\n",
      "Adding File C:/Projects/osw_to_osa/.bundle/install/ruby/2.7.0/gems/openstudio-common-measures-0.7.0/lib/measures/openstudio_results/resources/Siz.CoilCoolingLowTempRadiantVarFlow.rb\n",
      "Adding File C:/Projects/osw_to_osa/.bundle/install/ruby/2.7.0/gems/openstudio-common-measures-0.7.0/lib/measures/openstudio_results/resources/Siz.CoilCoolingWater.rb\n",
      "Adding File C:/Projects/osw_to_osa/.bundle/install/ruby/2.7.0/gems/openstudio-common-measures-0.7.0/lib/measures/openstudio_results/resources/Siz.CoilCoolingWaterToAirHeatPumpEquationFit.rb\n",
      "Adding File C:/Projects/osw_to_osa/.bundle/install/ruby/2.7.0/gems/openstudio-common-measures-0.7.0/lib/measures/openstudio_results/resources/Siz.CoilCoolingWaterToAirHeatPumpVariableSpeedEquationFit.rb\n",
      "Adding File C:/Projects/osw_to_osa/.bundle/install/ruby/2.7.0/gems/openstudio-common-measures-0.7.0/lib/measures/openstudio_results/resources/Siz.CoilCoolingWaterToAirHeatPumpVariableSpeedEquationFitSpeedData.rb\n",
      "Adding File C:/Projects/osw_to_osa/.bundle/install/ruby/2.7.0/gems/openstudio-common-measures-0.7.0/lib/measures/openstudio_results/resources/Siz.CoilHeatingDesuperheater.rb\n",
      "Adding File C:/Projects/osw_to_osa/.bundle/install/ruby/2.7.0/gems/openstudio-common-measures-0.7.0/lib/measures/openstudio_results/resources/Siz.CoilHeatingDXMultiSpeed.rb\n",
      "Adding File C:/Projects/osw_to_osa/.bundle/install/ruby/2.7.0/gems/openstudio-common-measures-0.7.0/lib/measures/openstudio_results/resources/Siz.CoilHeatingDXMultiSpeedStageData.rb\n",
      "Adding File C:/Projects/osw_to_osa/.bundle/install/ruby/2.7.0/gems/openstudio-common-measures-0.7.0/lib/measures/openstudio_results/resources/Siz.CoilHeatingDXSingleSpeed.rb\n",
      "Adding File C:/Projects/osw_to_osa/.bundle/install/ruby/2.7.0/gems/openstudio-common-measures-0.7.0/lib/measures/openstudio_results/resources/Siz.CoilHeatingDXVariableRefrigerantFlow.rb\n",
      "Adding File C:/Projects/osw_to_osa/.bundle/install/ruby/2.7.0/gems/openstudio-common-measures-0.7.0/lib/measures/openstudio_results/resources/Siz.CoilHeatingDXVariableSpeed.rb\n",
      "Adding File C:/Projects/osw_to_osa/.bundle/install/ruby/2.7.0/gems/openstudio-common-measures-0.7.0/lib/measures/openstudio_results/resources/Siz.CoilHeatingDXVariableSpeedSpeedData.rb\n",
      "Adding File C:/Projects/osw_to_osa/.bundle/install/ruby/2.7.0/gems/openstudio-common-measures-0.7.0/lib/measures/openstudio_results/resources/Siz.CoilHeatingElectric.rb\n",
      "Adding File C:/Projects/osw_to_osa/.bundle/install/ruby/2.7.0/gems/openstudio-common-measures-0.7.0/lib/measures/openstudio_results/resources/Siz.CoilHeatingGas.rb\n",
      "Adding File C:/Projects/osw_to_osa/.bundle/install/ruby/2.7.0/gems/openstudio-common-measures-0.7.0/lib/measures/openstudio_results/resources/Siz.CoilHeatingGasMultiStage.rb\n",
      "Adding File C:/Projects/osw_to_osa/.bundle/install/ruby/2.7.0/gems/openstudio-common-measures-0.7.0/lib/measures/openstudio_results/resources/Siz.CoilHeatingGasMultiStageStageData.rb\n",
      "Adding File C:/Projects/osw_to_osa/.bundle/install/ruby/2.7.0/gems/openstudio-common-measures-0.7.0/lib/measures/openstudio_results/resources/Siz.CoilHeatingLowTempRadiantVarFlow.rb\n",
      "Adding File C:/Projects/osw_to_osa/.bundle/install/ruby/2.7.0/gems/openstudio-common-measures-0.7.0/lib/measures/openstudio_results/resources/Siz.CoilHeatingWater.rb\n",
      "Adding File C:/Projects/osw_to_osa/.bundle/install/ruby/2.7.0/gems/openstudio-common-measures-0.7.0/lib/measures/openstudio_results/resources/Siz.CoilHeatingWaterBaseboard.rb\n",
      "Adding File C:/Projects/osw_to_osa/.bundle/install/ruby/2.7.0/gems/openstudio-common-measures-0.7.0/lib/measures/openstudio_results/resources/Siz.CoilHeatingWaterBaseboardRadiant.rb\n",
      "Adding File C:/Projects/osw_to_osa/.bundle/install/ruby/2.7.0/gems/openstudio-common-measures-0.7.0/lib/measures/openstudio_results/resources/Siz.CoilHeatingWaterToAirHeatPumpEquationFit.rb\n",
      "Adding File C:/Projects/osw_to_osa/.bundle/install/ruby/2.7.0/gems/openstudio-common-measures-0.7.0/lib/measures/openstudio_results/resources/Siz.CoilHeatingWaterToAirHeatPumpVariableSpeedEquationFit.rb\n",
      "Adding File C:/Projects/osw_to_osa/.bundle/install/ruby/2.7.0/gems/openstudio-common-measures-0.7.0/lib/measures/openstudio_results/resources/Siz.CoilHeatingWaterToAirHeatPumpVariableSpeedEquationFitSpeedData.rb\n",
      "Adding File C:/Projects/osw_to_osa/.bundle/install/ruby/2.7.0/gems/openstudio-common-measures-0.7.0/lib/measures/openstudio_results/resources/Siz.CoilPerformanceDXCooling.rb\n",
      "Adding File C:/Projects/osw_to_osa/.bundle/install/ruby/2.7.0/gems/openstudio-common-measures-0.7.0/lib/measures/openstudio_results/resources/Siz.CoilSystemCoolingDXHeatExchangerAssisted.rb\n",
      "Adding File C:/Projects/osw_to_osa/.bundle/install/ruby/2.7.0/gems/openstudio-common-measures-0.7.0/lib/measures/openstudio_results/resources/Siz.CoilSystemCoolingWaterHeatExchangerAssisted.rb\n",
      "Adding File C:/Projects/osw_to_osa/.bundle/install/ruby/2.7.0/gems/openstudio-common-measures-0.7.0/lib/measures/openstudio_results/resources/Siz.CoilWaterHeatingAirToWaterHeatPump.rb\n",
      "Adding File C:/Projects/osw_to_osa/.bundle/install/ruby/2.7.0/gems/openstudio-common-measures-0.7.0/lib/measures/openstudio_results/resources/Siz.CoilWaterHeatingAirToWaterHeatPumpWrapped.rb\n",
      "Adding File C:/Projects/osw_to_osa/.bundle/install/ruby/2.7.0/gems/openstudio-common-measures-0.7.0/lib/measures/openstudio_results/resources/Siz.CoilWaterHeatingDesuperheater.rb\n",
      "Adding File C:/Projects/osw_to_osa/.bundle/install/ruby/2.7.0/gems/openstudio-common-measures-0.7.0/lib/measures/openstudio_results/resources/Siz.ControllerOutdoorAir.rb\n",
      "Adding File C:/Projects/osw_to_osa/.bundle/install/ruby/2.7.0/gems/openstudio-common-measures-0.7.0/lib/measures/openstudio_results/resources/Siz.CoolingTowerSingleSpeed.rb\n",
      "Adding File C:/Projects/osw_to_osa/.bundle/install/ruby/2.7.0/gems/openstudio-common-measures-0.7.0/lib/measures/openstudio_results/resources/Siz.CoolingTowerTwoSpeed.rb\n",
      "Adding File C:/Projects/osw_to_osa/.bundle/install/ruby/2.7.0/gems/openstudio-common-measures-0.7.0/lib/measures/openstudio_results/resources/Siz.CoolingTowerVariableSpeed.rb\n",
      "Adding File C:/Projects/osw_to_osa/.bundle/install/ruby/2.7.0/gems/openstudio-common-measures-0.7.0/lib/measures/openstudio_results/resources/Siz.DistrictCooling.rb\n",
      "Adding File C:/Projects/osw_to_osa/.bundle/install/ruby/2.7.0/gems/openstudio-common-measures-0.7.0/lib/measures/openstudio_results/resources/Siz.DistrictHeating.rb\n",
      "Adding File C:/Projects/osw_to_osa/.bundle/install/ruby/2.7.0/gems/openstudio-common-measures-0.7.0/lib/measures/openstudio_results/resources/Siz.ElectricLoadCenterInverterLookUpTable.rb\n",
      "Adding File C:/Projects/osw_to_osa/.bundle/install/ruby/2.7.0/gems/openstudio-common-measures-0.7.0/lib/measures/openstudio_results/resources/Siz.ElectricLoadCenterInverterSimple.rb\n",
      "Adding File C:/Projects/osw_to_osa/.bundle/install/ruby/2.7.0/gems/openstudio-common-measures-0.7.0/lib/measures/openstudio_results/resources/Siz.ElectricLoadCenterStorageConverter.rb\n",
      "Adding File C:/Projects/osw_to_osa/.bundle/install/ruby/2.7.0/gems/openstudio-common-measures-0.7.0/lib/measures/openstudio_results/resources/Siz.ElectricLoadCenterStorageSimple.rb\n",
      "Adding File C:/Projects/osw_to_osa/.bundle/install/ruby/2.7.0/gems/openstudio-common-measures-0.7.0/lib/measures/openstudio_results/resources/Siz.EvaporativeCoolerDirectResearchSpecial.rb\n",
      "Adding File C:/Projects/osw_to_osa/.bundle/install/ruby/2.7.0/gems/openstudio-common-measures-0.7.0/lib/measures/openstudio_results/resources/Siz.EvaporativeCoolerIndirectResearchSpecial.rb\n",
      "Adding File C:/Projects/osw_to_osa/.bundle/install/ruby/2.7.0/gems/openstudio-common-measures-0.7.0/lib/measures/openstudio_results/resources/Siz.EvaporativeFluidCoolerSingleSpeed.rb\n",
      "Adding File C:/Projects/osw_to_osa/.bundle/install/ruby/2.7.0/gems/openstudio-common-measures-0.7.0/lib/measures/openstudio_results/resources/Siz.EvaporativeFluidCoolerTwoSpeed.rb\n",
      "Adding File C:/Projects/osw_to_osa/.bundle/install/ruby/2.7.0/gems/openstudio-common-measures-0.7.0/lib/measures/openstudio_results/resources/Siz.FanConstantVolume.rb\n",
      "Adding File C:/Projects/osw_to_osa/.bundle/install/ruby/2.7.0/gems/openstudio-common-measures-0.7.0/lib/measures/openstudio_results/resources/Siz.FanOnOff.rb\n",
      "Adding File C:/Projects/osw_to_osa/.bundle/install/ruby/2.7.0/gems/openstudio-common-measures-0.7.0/lib/measures/openstudio_results/resources/Siz.FanVariableVolume.rb\n",
      "Adding File C:/Projects/osw_to_osa/.bundle/install/ruby/2.7.0/gems/openstudio-common-measures-0.7.0/lib/measures/openstudio_results/resources/Siz.FanZoneExhaust.rb\n",
      "Adding File C:/Projects/osw_to_osa/.bundle/install/ruby/2.7.0/gems/openstudio-common-measures-0.7.0/lib/measures/openstudio_results/resources/Siz.FluidCoolerSingleSpeed.rb\n",
      "Adding File C:/Projects/osw_to_osa/.bundle/install/ruby/2.7.0/gems/openstudio-common-measures-0.7.0/lib/measures/openstudio_results/resources/Siz.FluidCoolerTwoSpeed.rb\n",
      "Adding File C:/Projects/osw_to_osa/.bundle/install/ruby/2.7.0/gems/openstudio-common-measures-0.7.0/lib/measures/openstudio_results/resources/Siz.GeneratorFuelCellElectricalStorage.rb\n",
      "Adding File C:/Projects/osw_to_osa/.bundle/install/ruby/2.7.0/gems/openstudio-common-measures-0.7.0/lib/measures/openstudio_results/resources/Siz.GeneratorFuelCellInverter.rb\n",
      "Adding File C:/Projects/osw_to_osa/.bundle/install/ruby/2.7.0/gems/openstudio-common-measures-0.7.0/lib/measures/openstudio_results/resources/Siz.GeneratorFuelCellPowerModule.rb\n",
      "Adding File C:/Projects/osw_to_osa/.bundle/install/ruby/2.7.0/gems/openstudio-common-measures-0.7.0/lib/measures/openstudio_results/resources/Siz.GeneratorMicroTurbine.rb\n",
      "Adding File C:/Projects/osw_to_osa/.bundle/install/ruby/2.7.0/gems/openstudio-common-measures-0.7.0/lib/measures/openstudio_results/resources/Siz.GeneratorMicroTurbineHeatRecovery.rb\n",
      "Adding File C:/Projects/osw_to_osa/.bundle/install/ruby/2.7.0/gems/openstudio-common-measures-0.7.0/lib/measures/openstudio_results/resources/Siz.HeaderedPumpsConstantSpeed.rb\n",
      "Adding File C:/Projects/osw_to_osa/.bundle/install/ruby/2.7.0/gems/openstudio-common-measures-0.7.0/lib/measures/openstudio_results/resources/Siz.HeaderedPumpsVariableSpeed.rb\n",
      "Adding File C:/Projects/osw_to_osa/.bundle/install/ruby/2.7.0/gems/openstudio-common-measures-0.7.0/lib/measures/openstudio_results/resources/Siz.HeatExchangerAirToAirSensibleAndLatent.rb\n",
      "Adding File C:/Projects/osw_to_osa/.bundle/install/ruby/2.7.0/gems/openstudio-common-measures-0.7.0/lib/measures/openstudio_results/resources/Siz.HeatExchangerFluidToFluid.rb\n",
      "Adding File C:/Projects/osw_to_osa/.bundle/install/ruby/2.7.0/gems/openstudio-common-measures-0.7.0/lib/measures/openstudio_results/resources/Siz.HeatPumpWaterToWaterEquationFitCooling.rb\n",
      "Adding File C:/Projects/osw_to_osa/.bundle/install/ruby/2.7.0/gems/openstudio-common-measures-0.7.0/lib/measures/openstudio_results/resources/Siz.HeatPumpWaterToWaterEquationFitHeating.rb\n",
      "Adding File C:/Projects/osw_to_osa/.bundle/install/ruby/2.7.0/gems/openstudio-common-measures-0.7.0/lib/measures/openstudio_results/resources/Siz.HumidifierSteamElectric.rb\n",
      "Adding File C:/Projects/osw_to_osa/.bundle/install/ruby/2.7.0/gems/openstudio-common-measures-0.7.0/lib/measures/openstudio_results/resources/Siz.HVACComponent.rb\n",
      "Adding File C:/Projects/osw_to_osa/.bundle/install/ruby/2.7.0/gems/openstudio-common-measures-0.7.0/lib/measures/openstudio_results/resources/Siz.Model.rb\n",
      "Adding File C:/Projects/osw_to_osa/.bundle/install/ruby/2.7.0/gems/openstudio-common-measures-0.7.0/lib/measures/openstudio_results/resources/Siz.ModelObject.rb\n",
      "Adding File C:/Projects/osw_to_osa/.bundle/install/ruby/2.7.0/gems/openstudio-common-measures-0.7.0/lib/measures/openstudio_results/resources/Siz.PhotovoltaicPerformanceSimple.rb\n",
      "Adding File C:/Projects/osw_to_osa/.bundle/install/ruby/2.7.0/gems/openstudio-common-measures-0.7.0/lib/measures/openstudio_results/resources/Siz.PlantComponentTemperatureSource.rb\n",
      "Adding File C:/Projects/osw_to_osa/.bundle/install/ruby/2.7.0/gems/openstudio-common-measures-0.7.0/lib/measures/openstudio_results/resources/Siz.PlantLoop.rb\n",
      "Adding File C:/Projects/osw_to_osa/.bundle/install/ruby/2.7.0/gems/openstudio-common-measures-0.7.0/lib/measures/openstudio_results/resources/Siz.PumpConstantSpeed.rb\n",
      "Adding File C:/Projects/osw_to_osa/.bundle/install/ruby/2.7.0/gems/openstudio-common-measures-0.7.0/lib/measures/openstudio_results/resources/Siz.PumpVariableSpeed.rb\n",
      "Adding File C:/Projects/osw_to_osa/.bundle/install/ruby/2.7.0/gems/openstudio-common-measures-0.7.0/lib/measures/openstudio_results/resources/Siz.RefrigerationSecondarySystem.rb\n",
      "Adding File C:/Projects/osw_to_osa/.bundle/install/ruby/2.7.0/gems/openstudio-common-measures-0.7.0/lib/measures/openstudio_results/resources/Siz.RefrigerationSystem.rb\n",
      "Adding File C:/Projects/osw_to_osa/.bundle/install/ruby/2.7.0/gems/openstudio-common-measures-0.7.0/lib/measures/openstudio_results/resources/Siz.RefrigerationTranscriticalSystem.rb\n",
      "Adding File C:/Projects/osw_to_osa/.bundle/install/ruby/2.7.0/gems/openstudio-common-measures-0.7.0/lib/measures/openstudio_results/resources/Siz.SizingSystem.rb\n",
      "Adding File C:/Projects/osw_to_osa/.bundle/install/ruby/2.7.0/gems/openstudio-common-measures-0.7.0/lib/measures/openstudio_results/resources/Siz.SolarCollectorFlatPlatePhotovoltaicThermal.rb\n",
      "Adding File C:/Projects/osw_to_osa/.bundle/install/ruby/2.7.0/gems/openstudio-common-measures-0.7.0/lib/measures/openstudio_results/resources/Siz.SolarCollectorPerformancePhotovoltaicThermalSimple.rb\n",
      "Adding File C:/Projects/osw_to_osa/.bundle/install/ruby/2.7.0/gems/openstudio-common-measures-0.7.0/lib/measures/openstudio_results/resources/Siz.ThermalStorageChilledWaterStratified.rb\n",
      "Adding File C:/Projects/osw_to_osa/.bundle/install/ruby/2.7.0/gems/openstudio-common-measures-0.7.0/lib/measures/openstudio_results/resources/Siz.WaterHeaterHeatPump.rb\n",
      "Adding File C:/Projects/osw_to_osa/.bundle/install/ruby/2.7.0/gems/openstudio-common-measures-0.7.0/lib/measures/openstudio_results/resources/Siz.WaterHeaterHeatPumpWrappedCondenser.rb\n",
      "Adding File C:/Projects/osw_to_osa/.bundle/install/ruby/2.7.0/gems/openstudio-common-measures-0.7.0/lib/measures/openstudio_results/resources/Siz.WaterHeaterMixed.rb\n",
      "Adding File C:/Projects/osw_to_osa/.bundle/install/ruby/2.7.0/gems/openstudio-common-measures-0.7.0/lib/measures/openstudio_results/resources/Siz.WaterHeaterStratified.rb\n",
      "Adding File C:/Projects/osw_to_osa/.bundle/install/ruby/2.7.0/gems/openstudio-common-measures-0.7.0/lib/measures/openstudio_results/resources/Siz.ZoneHVACBaseboardConvectiveElectric.rb\n",
      "Adding File C:/Projects/osw_to_osa/.bundle/install/ruby/2.7.0/gems/openstudio-common-measures-0.7.0/lib/measures/openstudio_results/resources/Siz.ZoneHVACBaseboardConvectiveWater.rb\n",
      "Adding File C:/Projects/osw_to_osa/.bundle/install/ruby/2.7.0/gems/openstudio-common-measures-0.7.0/lib/measures/openstudio_results/resources/Siz.ZoneHVACBaseboardRadiantConvectiveElectric.rb\n",
      "Adding File C:/Projects/osw_to_osa/.bundle/install/ruby/2.7.0/gems/openstudio-common-measures-0.7.0/lib/measures/openstudio_results/resources/Siz.ZoneHVACBaseboardRadiantConvectiveWater.rb\n",
      "Adding File C:/Projects/osw_to_osa/.bundle/install/ruby/2.7.0/gems/openstudio-common-measures-0.7.0/lib/measures/openstudio_results/resources/Siz.ZoneHVACEnergyRecoveryVentilator.rb\n",
      "Adding File C:/Projects/osw_to_osa/.bundle/install/ruby/2.7.0/gems/openstudio-common-measures-0.7.0/lib/measures/openstudio_results/resources/Siz.ZoneHVACFourPipeFanCoil.rb\n",
      "Adding File C:/Projects/osw_to_osa/.bundle/install/ruby/2.7.0/gems/openstudio-common-measures-0.7.0/lib/measures/openstudio_results/resources/Siz.ZoneHVACHighTemperatureRadiant.rb\n",
      "Adding File C:/Projects/osw_to_osa/.bundle/install/ruby/2.7.0/gems/openstudio-common-measures-0.7.0/lib/measures/openstudio_results/resources/Siz.ZoneHVACIdealLoadsAirSystem.rb\n",
      "Adding File C:/Projects/osw_to_osa/.bundle/install/ruby/2.7.0/gems/openstudio-common-measures-0.7.0/lib/measures/openstudio_results/resources/Siz.ZoneHVACLowTempRadiantConstFlow.rb\n",
      "Adding File C:/Projects/osw_to_osa/.bundle/install/ruby/2.7.0/gems/openstudio-common-measures-0.7.0/lib/measures/openstudio_results/resources/Siz.ZoneHVACLowTempRadiantVarFlow.rb\n",
      "Adding File C:/Projects/osw_to_osa/.bundle/install/ruby/2.7.0/gems/openstudio-common-measures-0.7.0/lib/measures/openstudio_results/resources/Siz.ZoneHVACPackagedTerminalAirConditioner.rb\n",
      "Adding File C:/Projects/osw_to_osa/.bundle/install/ruby/2.7.0/gems/openstudio-common-measures-0.7.0/lib/measures/openstudio_results/resources/Siz.ZoneHVACPackagedTerminalHeatPump.rb\n",
      "Adding File C:/Projects/osw_to_osa/.bundle/install/ruby/2.7.0/gems/openstudio-common-measures-0.7.0/lib/measures/openstudio_results/resources/Siz.ZoneHVACTerminalUnitVariableRefrigerantFlow.rb\n",
      "Adding File C:/Projects/osw_to_osa/.bundle/install/ruby/2.7.0/gems/openstudio-common-measures-0.7.0/lib/measures/openstudio_results/resources/Siz.ZoneHVACUnitHeater.rb\n",
      "Adding File C:/Projects/osw_to_osa/.bundle/install/ruby/2.7.0/gems/openstudio-common-measures-0.7.0/lib/measures/openstudio_results/resources/Siz.ZoneHVACUnitVentilator.rb\n",
      "Adding File C:/Projects/osw_to_osa/.bundle/install/ruby/2.7.0/gems/openstudio-common-measures-0.7.0/lib/measures/openstudio_results/resources/Siz.ZoneHVACWaterToAirHeatPump.rb\n",
      "Adding File C:/Projects/osw_to_osa/.bundle/install/ruby/2.7.0/gems/openstudio-common-measures-0.7.0/lib/measures/openstudio_results/resources/Siz.ZoneVentilationDesignFlowRate.rb\n"
     ]
    },
    {
     "data": {
      "text/plain": [
       "[#<OpenStudio::Analysis::WorkflowStep:0x000000000d4d2238 @name=\"change_building_location\", @display_name=\"ChangeBuildingLocation\", @type=\"ModelMeasure\", @measure_definition_class_name=\"ChangeBuildingLocation\", @measure_definition_directory=\"./measures/ChangeBuildingLocation\", @measure_definition_directory_local=\"C:/Projects/osw_to_osa/.bundle/install/ruby/2.7.0/gems/openstudio-common-measures-0.7.0/lib/measures/ChangeBuildingLocation\", @measure_definition_display_name=\"ChangeBuildingLocation\", @measure_definition_name=\"change_building_location\", @measure_definition_name_xml=nil, @measure_definition_uuid=\"d4db4971-f5ba-11e3-a3ac-0800200c9a66\", @measure_definition_version_uuid=\"946ae086-8c8e-4aa7-9d53-f482ba39d7a5\", @uuid=\"d4db4971-f5ba-11e3-a3ac-0800200c9a66\", @version_uuid=\"946ae086-8c8e-4aa7-9d53-f482ba39d7a5\", @description=\"Change the building location\", @arguments=[{:display_name=>\"Skip Entire Measure\", :display_name_short=>\"Skip\", :name=>\"__SKIP__\", :value_type=>\"boolean\", :default_value=>false, :value=>false}, {:display_name=>\"Weather File Name\", :display_name_short=>\"Weather File Name\", :name=>\"weather_file_name\", :value_type=>\"string\", :default_value=>nil, :value=>\"USA_IL_Chicago-OHare.Intl.AP.725300_TMY3.epw\"}, {:display_name=>\"Climate Zone.\", :display_name_short=>\"Climate Zone.\", :name=>\"climate_zone\", :value_type=>\"string\", :default_value=>\"Lookup From Stat File\", :value=>\"Lookup From Stat File\"}, {:display_name=>\"Set Calendar Year\", :display_name_short=>\"Set Calendar Year\", :name=>\"set_year\", :value_type=>\"integer\", :default_value=>0, :value=>\"2019\"}, {:display_name=>\"Use Upstream Argument Values\", :display_name_short=>\"Use Upstream Argument Values\", :name=>\"use_upstream_args\", :value_type=>\"boolean\", :default_value=>true, :value=>true}, {:display_name=>\"Find and replace option from existing weather file name.\", :display_name_short=>\"Find and replace option from existing weather file name.\", :name=>\"epw_gsub\", :value_type=>\"string\", :default_value=>\"Do Nothing\", :value=>\"Do Nothing\"}], @variables=[]>, #<OpenStudio::Analysis::WorkflowStep:0x000000000c0f17f0 @name=\"create_bar_from_doe_building_type_ratios\", @display_name=\"Create Bar From DOE Building Type Ratios\", @type=\"ModelMeasure\", @measure_definition_class_name=\"CreateBarFromDOEBuildingTypeRatios\", @measure_definition_directory=\"./measures/create_bar_from_doe_building_type_ratios\", @measure_definition_directory_local=\"C:/Projects/osw_to_osa/.bundle/install/ruby/2.7.0/gems/openstudio-model-articulation-0.7.0/lib/measures/create_bar_from_doe_building_type_ratios\", @measure_definition_display_name=\"Create Bar From DOE Building Type Ratios\", @measure_definition_name=\"create_bar_from_doe_building_type_ratios\", @measure_definition_name_xml=nil, @measure_definition_uuid=\"0de3cff9-c805-42c4-964e-18cb43a22c63\", @measure_definition_version_uuid=\"f5f51bc7-16a3-4829-82fb-3bcbb773a33a\", @uuid=\"0de3cff9-c805-42c4-964e-18cb43a22c63\", @version_uuid=\"f5f51bc7-16a3-4829-82fb-3bcbb773a33a\", @description=\"Creates one or more rectangular building elements based on space type ratios of selected mix of building types, along with user arguments that describe the desired geometry characteristics.\", @arguments=[{:display_name=>\"Skip Entire Measure\", :display_name_short=>\"Skip\", :name=>\"__SKIP__\", :value_type=>\"boolean\", :default_value=>false, :value=>false}, {:display_name=>\"Primary Building Type\", :display_name_short=>\"Primary Building Type\", :name=>\"bldg_type_a\", :value_type=>\"string\", :default_value=>\"SmallOffice\", :value=>\"PrimarySchool\"}, {:display_name=>\"Building Type B\", :display_name_short=>\"Building Type B\", :name=>\"bldg_type_b\", :value_type=>\"string\", :default_value=>\"SmallOffice\", :value=>\"SmallOffice\"}, {:display_name=>\"Building Type B Fraction of Building Floor Area\", :display_name_short=>\"Building Type B Fraction of Building Floor Area\", :name=>\"bldg_type_b_fract_bldg_area\", :value_type=>\"double\", :default_value=>0.0, :value=>0.0}, {:display_name=>\"Building Type C\", :display_name_short=>\"Building Type C\", :name=>\"bldg_type_c\", :value_type=>\"string\", :default_value=>\"SmallOffice\", :value=>\"SmallOffice\"}, {:display_name=>\"Building Type C Fraction of Building Floor Area\", :display_name_short=>\"Building Type C Fraction of Building Floor Area\", :name=>\"bldg_type_c_fract_bldg_area\", :value_type=>\"double\", :default_value=>0.0, :value=>0.0}, {:display_name=>\"Building Type D\", :display_name_short=>\"Building Type D\", :name=>\"bldg_type_d\", :value_type=>\"string\", :default_value=>\"SmallOffice\", :value=>\"SmallOffice\"}, {:display_name=>\"Building Type D Fraction of Building Floor Area\", :display_name_short=>\"Building Type D Fraction of Building Floor Area\", :name=>\"bldg_type_d_fract_bldg_area\", :value_type=>\"double\", :default_value=>0.0, :value=>0.0}, {:display_name=>\"Total Building Floor Area\", :display_name_short=>\"Total Building Floor Area\", :name=>\"total_bldg_floor_area\", :value_type=>\"double\", :default_value=>10000.0, :value=>100000}, {:display_name=>\"Single Floor Area\", :display_name_short=>\"Single Floor Area\", :name=>\"single_floor_area\", :value_type=>\"double\", :default_value=>0.0, :value=>0.0}, {:display_name=>\"Typical Floor to FLoor Height\", :display_name_short=>\"Typical Floor to FLoor Height\", :name=>\"floor_height\", :value_type=>\"double\", :default_value=>0.0, :value=>0.0}, {:display_name=>\"Enable Custom Height Bar Application\", :display_name_short=>\"Enable Custom Height Bar Application\", :name=>\"custom_height_bar\", :value_type=>\"boolean\", :default_value=>true, :value=>true}, {:display_name=>\"Number of Stories Above Grade\", :display_name_short=>\"Number of Stories Above Grade\", :name=>\"num_stories_above_grade\", :value_type=>\"double\", :default_value=>1.0, :value=>1.0}, {:display_name=>\"Number of Stories Below Grade\", :display_name_short=>\"Number of Stories Below Grade\", :name=>\"num_stories_below_grade\", :value_type=>\"integer\", :default_value=>0, :value=>\"0\"}, {:display_name=>\"Building Rotation\", :display_name_short=>\"Building Rotation\", :name=>\"building_rotation\", :value_type=>\"double\", :default_value=>0.0, :value=>0.0}, {:display_name=>\"Target Standard\", :display_name_short=>\"Target Standard\", :name=>\"template\", :value_type=>\"string\", :default_value=>\"90.1-2004\", :value=>\"90.1-2010\"}, {:display_name=>\"Ratio of North/South Facade Length Relative to East/West Facade Length\", :display_name_short=>\"Ratio of North/South Facade Length Relative to East/West Facade Length\", :name=>\"ns_to_ew_ratio\", :value_type=>\"double\", :default_value=>0.0, :value=>2.0}, {:display_name=>\"Perimeter Multiplier\", :display_name_short=>\"Perimeter Multiplier\", :name=>\"perim_mult\", :value_type=>\"double\", :default_value=>0.0, :value=>1.0}, {:display_name=>\"Bar Width\", :display_name_short=>\"Bar Width\", :name=>\"bar_width\", :value_type=>\"double\", :default_value=>0.0, :value=>0.0}, {:display_name=>\"Bar Separation Distance Multiplier\", :display_name_short=>\"Bar Separation Distance Multiplier\", :name=>\"bar_sep_dist_mult\", :value_type=>\"double\", :default_value=>10.0, :value=>1.0}, {:display_name=>\"Window to Wall Ratio\", :display_name_short=>\"Window to Wall Ratio\", :name=>\"wwr\", :value_type=>\"double\", :default_value=>0.0, :value=>0.3}, {:display_name=>\"Fraction of Exterior Wall Area with Adjacent Structure\", :display_name_short=>\"Fraction of Exterior Wall Area with Adjacent Structure\", :name=>\"party_wall_fraction\", :value_type=>\"double\", :default_value=>0.0, :value=>0.0}, {:display_name=>\"Number of North facing stories with party wall\", :display_name_short=>\"Number of North facing stories with party wall\", :name=>\"party_wall_stories_north\", :value_type=>\"integer\", :default_value=>0, :value=>0}, {:display_name=>\"Number of South facing stories with party wall\", :display_name_short=>\"Number of South facing stories with party wall\", :name=>\"party_wall_stories_south\", :value_type=>\"integer\", :default_value=>0, :value=>0}, {:display_name=>\"Number of East facing stories with party wall\", :display_name_short=>\"Number of East facing stories with party wall\", :name=>\"party_wall_stories_east\", :value_type=>\"integer\", :default_value=>0, :value=>0}, {:display_name=>\"Number of West facing stories with party wall\", :display_name_short=>\"Number of West facing stories with party wall\", :name=>\"party_wall_stories_west\", :value_type=>\"integer\", :default_value=>0, :value=>0}, {:display_name=>\"Is the Bottom Story Exposed to Ground\", :display_name_short=>\"Is the Bottom Story Exposed to Ground\", :name=>\"bottom_story_ground_exposed_floor\", :value_type=>\"boolean\", :default_value=>true, :value=>true}, {:display_name=>\"Is the Top Story an Exterior Roof\", :display_name_short=>\"Is the Top Story an Exterior Roof\", :name=>\"top_story_exterior_exposed_roof\", :value_type=>\"boolean\", :default_value=>true, :value=>true}, {:display_name=>\"Calculation Method for Story Multiplier\", :display_name_short=>\"Calculation Method for Story Multiplier\", :name=>\"story_multiplier\", :value_type=>\"string\", :default_value=>\"Basements Ground Mid Top\", :value=>\"Basements Ground Mid Top\"}, {:display_name=>\"Make Mid Story Floor Surfaces Adiabatic\", :display_name_short=>\"Make Mid Story Floor Surfaces Adiabatic\", :name=>\"make_mid_story_surfaces_adiabatic\", :value_type=>\"boolean\", :default_value=>false, :value=>true}, {:display_name=>\"Division Method for Bar Space Types\", :display_name_short=>\"Division Method for Bar Space Types\", :name=>\"bar_division_method\", :value_type=>\"string\", :default_value=>\"Multiple Space Types - Individual Stories Sliced\", :value=>\"Multiple Space Types - Individual Stories Sliced\"}, {:display_name=>\"Double Loaded Corridor\", :display_name_short=>\"Double Loaded Corridor\", :name=>\"double_loaded_corridor\", :value_type=>\"string\", :default_value=>\"Primary Space Type\", :value=>\"Primary Space Type\"}, {:display_name=>\"Choose Space Type Sorting Method\", :display_name_short=>\"Choose Space Type Sorting Method\", :name=>\"space_type_sort_logic\", :value_type=>\"string\", :default_value=>\"Building Type > Size\", :value=>\"Building Type > Size\"}, {:display_name=>\"Use Upstream Argument Values\", :display_name_short=>\"Use Upstream Argument Values\", :name=>\"use_upstream_args\", :value_type=>\"boolean\", :default_value=>true, :value=>true}], @variables=[{:argument=>{:display_name=>\"Target Standard\", :display_name_short=>\"Target Standard\", :name=>\"template\", :value_type=>\"string\", :default_value=>\"90.1-2004\", :value=>\"90.1-2010\"}, :display_name=>\"Template\", :display_name_short=>\"Template\", :variable_type=>\"variable\", :type=>\"discrete\", :units=>nil, :minimum=>\"90.1-2007\", :maximum=>\"90.1-2019\", :relation_to_output=>nil, :mode=>\"90.1-2007\", :weights=>[0.2, 0.2, 0.2, 0.2, 0.2], :values=>[\"90.1-2007\", \"90.1-2010\", \"90.1-2013\", \"90.1-2016\", \"90.1-2019\"], :step_size=>nil, :uuid=>\"ec9b57af-50c0-470d-bc04-2343815cd5be\", :version_uuid=>\"3f2cc9cd-f21e-4a1a-bbc6-557290ad1a31\", :static_value=>\"90.1-2004\"}, {:argument=>{:display_name=>\"Number of Stories Above Grade\", :display_name_short=>\"Number of Stories Above Grade\", :name=>\"num_stories_above_grade\", :value_type=>\"double\", :default_value=>1.0, :value=>1.0}, :display_name=>\"Num Stories Above Grade\", :display_name_short=>\"Num Stories Above Grade\", :variable_type=>\"variable\", :type=>\"discrete\", :units=>nil, :minimum=>1.0, :maximum=>4.0, :relation_to_output=>nil, :mode=>2.0, :weights=>[0.25, 0.25, 0.25, 0.25], :values=>[1.0, 2.0, 3.0, 4.0], :step_size=>nil, :uuid=>\"305858b9-b006-4366-921b-98ba277e7564\", :version_uuid=>\"f1694977-4cbb-47ad-8b50-f3b43538b366\", :static_value=>1.0}, {:argument=>{:display_name=>\"Building Rotation\", :display_name_short=>\"Building Rotation\", :name=>\"building_rotation\", :value_type=>\"double\", :default_value=>0.0, :value=>0.0}, :display_name=>\"Building Rotation\", :display_name_short=>\"Building Rotation\", :variable_type=>\"variable\", :type=>\"discrete\", :units=>nil, :minimum=>0.0, :maximum=>90.0, :relation_to_output=>nil, :mode=>45.0, :weights=>[0.14285714285714285, 0.14285714285714285, 0.14285714285714285, 0.14285714285714285, 0.14285714285714285, 0.14285714285714285, 0.14285714285714285], :values=>[0.0, 15.0, 30.0, 45.0, 60.0, 75.0, 90.0], :step_size=>nil, :uuid=>\"45ca6eb3-1151-4a22-a3d6-efc0505c2740\", :version_uuid=>\"a364989a-2d4f-4c28-9dd4-c2ad492585ef\", :static_value=>0.0}, {:argument=>{:display_name=>\"Perimeter Multiplier\", :display_name_short=>\"Perimeter Multiplier\", :name=>\"perim_mult\", :value_type=>\"double\", :default_value=>0.0, :value=>1.0}, :display_name=>\"Perimiter Multiplier\", :display_name_short=>\"Perimiter Multiplier\", :variable_type=>\"variable\", :type=>\"discrete\", :units=>nil, :minimum=>1.0, :maximum=>3.0, :relation_to_output=>nil, :mode=>1.5, :weights=>[0.2, 0.2, 0.2, 0.2, 0.2], :values=>[1.0, 1.25, 1.5, 2.0, 3.0], :step_size=>nil, :uuid=>\"79848f90-d70f-49ed-865f-895454e28cd5\", :version_uuid=>\"e53cc5a3-ccdd-4886-afd6-2c915b9931ad\", :static_value=>0.0}, {:argument=>{:display_name=>\"Window to Wall Ratio\", :display_name_short=>\"Window to Wall Ratio\", :name=>\"wwr\", :value_type=>\"double\", :default_value=>0.0, :value=>0.3}, :display_name=>\"Window Wall Ratio\", :display_name_short=>\"Window Wall Ratio\", :variable_type=>\"variable\", :type=>\"uniform\", :units=>nil, :minimum=>0.2, :maximum=>0.8, :relation_to_output=>nil, :mode=>0.5, :step_size=>nil, :uuid=>\"6295e002-ec98-4a04-a283-8574845e0a2a\", :version_uuid=>\"36efdf76-e02f-42ab-83e4-5803c3c71a34\", :static_value=>0.0}, {:argument=>{:display_name=>\"Ratio of North/South Facade Length Relative to East/West Facade Length\", :display_name_short=>\"Ratio of North/South Facade Length Relative to East/West Facade Length\", :name=>\"ns_to_ew_ratio\", :value_type=>\"double\", :default_value=>0.0, :value=>2.0}, :display_name=>\"NS to EW Ratio\", :display_name_short=>\"NS to EW Ratio\", :variable_type=>\"variable\", :type=>\"uniform\", :units=>nil, :minimum=>0.25, :maximum=>4.0, :relation_to_output=>nil, :mode=>2.0, :step_size=>nil, :uuid=>\"4461f3f2-73e1-498f-b401-5a558471119a\", :version_uuid=>\"a8d9ea20-d3f9-41b2-ac2d-461e7d3167fc\", :static_value=>0.0}]>, #<OpenStudio::Analysis::WorkflowStep:0x000000000c5890b0 @name=\"create_typical_doe_building_from_model\", @display_name=\"Create Typical DOE Building from Model\", @type=\"ModelMeasure\", @measure_definition_class_name=\"CreateTypicalDOEBuildingFromModel\", @measure_definition_directory=\"./measures/create_typical_doe_building_from_model\", @measure_definition_directory_local=\"C:/Projects/osw_to_osa/.bundle/install/ruby/2.7.0/gems/openstudio-model-articulation-0.7.0/lib/measures/create_typical_doe_building_from_model\", @measure_definition_display_name=\"Create Typical DOE Building from Model\", @measure_definition_name=\"create_typical_doe_building_from_model\", @measure_definition_name_xml=nil, @measure_definition_uuid=\"b2c80210-33b3-4dfd-8267-535efd81f552\", @measure_definition_version_uuid=\"bd01bf11-d315-49ed-8c05-3ce269edbc1f\", @uuid=\"b2c80210-33b3-4dfd-8267-535efd81f552\", @version_uuid=\"bd01bf11-d315-49ed-8c05-3ce269edbc1f\", @description=\"Takes a model with space and stub space types, and assigns constructions, schedules, internal loads, hvac, and other loads such as exterior lights and service water heating.\", @arguments=[{:display_name=>\"Skip Entire Measure\", :display_name_short=>\"Skip\", :name=>\"__SKIP__\", :value_type=>\"boolean\", :default_value=>false, :value=>false}, {:display_name=>\"Target Standard\", :display_name_short=>\"Target Standard\", :name=>\"template\", :value_type=>\"string\", :default_value=>\"90.1-2010\", :value=>\"90.1-2010\"}, {:display_name=>\"HVAC System Type\", :display_name_short=>\"HVAC System Type\", :name=>\"system_type\", :value_type=>\"string\", :default_value=>\"Inferred\", :value=>\"Inferred\"}, {:display_name=>\"HVAC System Delivery Type\", :display_name_short=>\"HVAC System Delivery Type\", :name=>\"hvac_delivery_type\", :value_type=>\"string\", :default_value=>\"Forced Air\", :value=>\"Forced Air\"}, {:display_name=>\"HVAC Heating Source\", :display_name_short=>\"HVAC Heating Source\", :name=>\"htg_src\", :value_type=>\"string\", :default_value=>\"NaturalGas\", :value=>\"NaturalGas\"}, {:display_name=>\"HVAC Cooling Source\", :display_name_short=>\"HVAC Cooling Source\", :name=>\"clg_src\", :value_type=>\"string\", :default_value=>\"Electricity\", :value=>\"Electricity\"}, {:display_name=>\"Service Water Heating Source\", :display_name_short=>\"Service Water Heating Source\", :name=>\"swh_src\", :value_type=>\"string\", :default_value=>\"Inferred\", :value=>\"Inferred\"}, {:display_name=>\"Kitchen Exhaust MakeUp Air Calculation Method\", :display_name_short=>\"Kitchen Exhaust MakeUp Air Calculation Method\", :name=>\"kitchen_makeup\", :value_type=>\"string\", :default_value=>\"Adjacent\", :value=>\"Adjacent\"}, {:display_name=>\"Exterior Lighting Zone\", :display_name_short=>\"Exterior Lighting Zone\", :name=>\"exterior_lighting_zone\", :value_type=>\"string\", :default_value=>\"3 - All Other Areas\", :value=>\"3 - All Other Areas\"}, {:display_name=>\"Add Constructions to Model\", :display_name_short=>\"Add Constructions to Model\", :name=>\"add_constructions\", :value_type=>\"boolean\", :default_value=>true, :value=>true}, {:display_name=>\"Add Space Type Loads to Model\", :display_name_short=>\"Add Space Type Loads to Model\", :name=>\"add_space_type_loads\", :value_type=>\"boolean\", :default_value=>true, :value=>true}, {:display_name=>\"Add Elevators to Model\", :display_name_short=>\"Add Elevators to Model\", :name=>\"add_elevators\", :value_type=>\"boolean\", :default_value=>true, :value=>true}, {:display_name=>\"Add Internal Mass to Model\", :display_name_short=>\"Add Internal Mass to Model\", :name=>\"add_internal_mass\", :value_type=>\"boolean\", :default_value=>true, :value=>true}, {:display_name=>\"Add Exterior Lights to Model\", :display_name_short=>\"Add Exterior Lights to Model\", :name=>\"add_exterior_lights\", :value_type=>\"boolean\", :default_value=>true, :value=>true}, {:display_name=>\"Onsite Parking Fraction\", :display_name_short=>\"Onsite Parking Fraction\", :name=>\"onsite_parking_fraction\", :value_type=>\"double\", :default_value=>1.0, :value=>1.0}, {:display_name=>\"Add Exhaust Fans to Model\", :display_name_short=>\"Add Exhaust Fans to Model\", :name=>\"add_exhaust\", :value_type=>\"boolean\", :default_value=>true, :value=>true}, {:display_name=>\"Add Service Water Heating to Model\", :display_name_short=>\"Add Service Water Heating to Model\", :name=>\"add_swh\", :value_type=>\"boolean\", :default_value=>true, :value=>true}, {:display_name=>\"Add Thermostats\", :display_name_short=>\"Add Thermostats\", :name=>\"add_thermostat\", :value_type=>\"boolean\", :default_value=>true, :value=>true}, {:display_name=>\"Add HVAC System to Model\", :display_name_short=>\"Add HVAC System to Model\", :name=>\"add_hvac\", :value_type=>\"boolean\", :default_value=>true, :value=>true}, {:display_name=>\"Add Refrigeration to Model\", :display_name_short=>\"Add Refrigeration to Model\", :name=>\"add_refrigeration\", :value_type=>\"boolean\", :default_value=>true, :value=>true}, {:display_name=>\"Modify weekday hours of operation\", :display_name_short=>\"Modify weekday hours of operation\", :name=>\"modify_wkdy_op_hrs\", :value_type=>\"boolean\", :default_value=>false, :value=>false}, {:display_name=>\"Weekday Operating Hours Start Time\", :display_name_short=>\"Weekday Operating Hours Start Time\", :name=>\"wkdy_op_hrs_start_time\", :value_type=>\"double\", :default_value=>8.0, :value=>8.0}, {:display_name=>\"Weekday Operating Hours Duration\", :display_name_short=>\"Weekday Operating Hours Duration\", :name=>\"wkdy_op_hrs_duration\", :value_type=>\"double\", :default_value=>8.0, :value=>8.0}, {:display_name=>\"Modify weekend hours of operation\", :display_name_short=>\"Modify weekend hours of operation\", :name=>\"modify_wknd_op_hrs\", :value_type=>\"boolean\", :default_value=>false, :value=>false}, {:display_name=>\"Weekend Operating Hours Start Time\", :display_name_short=>\"Weekend Operating Hours Start Time\", :name=>\"wknd_op_hrs_start_time\", :value_type=>\"double\", :default_value=>8.0, :value=>8.0}, {:display_name=>\"Weekend Operating Hours Duration\", :display_name_short=>\"Weekend Operating Hours Duration\", :name=>\"wknd_op_hrs_duration\", :value_type=>\"double\", :default_value=>8.0, :value=>8.0}, {:display_name=>\"Unmet Hours Tolerance\", :display_name_short=>\"Unmet Hours Tolerance\", :name=>\"unmet_hours_tolerance\", :value_type=>\"double\", :default_value=>1.0, :value=>1.0}, {:display_name=>\"Clean Model of non-geometry objects\", :display_name_short=>\"Clean Model of non-geometry objects\", :name=>\"remove_objects\", :value_type=>\"boolean\", :default_value=>true, :value=>true}, {:display_name=>\"Use Upstream Argument Values\", :display_name_short=>\"Use Upstream Argument Values\", :name=>\"use_upstream_args\", :value_type=>\"boolean\", :default_value=>true, :value=>true}, {:display_name=>\"Enable Daylight Savings\", :display_name_short=>\"Enable Daylight Savings\", :name=>\"enable_dst\", :value_type=>\"boolean\", :default_value=>true, :value=>true}], @variables=[]>, #<OpenStudio::Analysis::WorkflowStep:0x000000000d88d3a0 @name=\"view_model\", @display_name=\"ViewModel\", @type=\"ModelMeasure\", @measure_definition_class_name=\"ViewModel\", @measure_definition_directory=\"./measures/view_model\", @measure_definition_directory_local=\"C:/Projects/osw_to_osa/.bundle/install/ruby/2.7.0/gems/openstudio-common-measures-0.7.0/lib/measures/view_model\", @measure_definition_display_name=\"ViewModel\", @measure_definition_name=\"view_model\", @measure_definition_name_xml=nil, @measure_definition_uuid=\"f4669f10-fda5-489d-8e1c-7ca3c2d40378\", @measure_definition_version_uuid=\"268f85e6-f86a-480c-b7dd-c75920b3c922\", @uuid=\"f4669f10-fda5-489d-8e1c-7ca3c2d40378\", @version_uuid=\"268f85e6-f86a-480c-b7dd-c75920b3c922\", @description=\"Visualize an OpenStudio model in a web based viewer\", @arguments=[{:display_name=>\"Skip Entire Measure\", :display_name_short=>\"Skip\", :name=>\"__SKIP__\", :value_type=>\"boolean\", :default_value=>false, :value=>false}], @variables=[]>, #<OpenStudio::Analysis::WorkflowStep:0x000000000d7c4608 @name=\"add_rooftop_pv\", @display_name=\"Add Rooftop PV\", @type=\"ModelMeasure\", @measure_definition_class_name=\"AddRooftopPV\", @measure_definition_directory=\"./measures/add_rooftop_pv\", @measure_definition_directory_local=\"C:/Projects/osw_to_osa/.bundle/install/ruby/2.7.0/gems/openstudio-common-measures-0.7.0/lib/measures/add_rooftop_pv\", @measure_definition_display_name=\"Add Rooftop PV\", @measure_definition_name=\"add_rooftop_pv\", @measure_definition_name_xml=nil, @measure_definition_uuid=\"34550614-0c87-44db-9252-0ca0915b1e64\", @measure_definition_version_uuid=\"645e4fbe-c829-4de2-adc5-3181f2db13ea\", @uuid=\"34550614-0c87-44db-9252-0ca0915b1e64\", @version_uuid=\"645e4fbe-c829-4de2-adc5-3181f2db13ea\", @description=\"This measure will create new shading surface geometry above the roof for each thermal zone inyour model where the surface azmith falls within the user specified range. Arguments are exposed for panel efficiency, inverter efficiency, and the fraction of each roof surface that has PV.\", @arguments=[{:display_name=>\"Skip Entire Measure\", :display_name_short=>\"Skip\", :name=>\"__SKIP__\", :value_type=>\"boolean\", :default_value=>false, :value=>false}, {:display_name=>\"Fraction of Surface Area with Active Solar Cells\", :display_name_short=>\"Fraction of Surface Area with Active Solar Cells\", :name=>\"fraction_of_surface\", :value_type=>\"double\", :default_value=>0.75, :value=>0.75}, {:display_name=>\"Cell Efficiency\", :display_name_short=>\"Cell Efficiency\", :name=>\"cell_efficiency\", :value_type=>\"double\", :default_value=>0.18, :value=>\"0.1976\"}, {:display_name=>\"Inverter Efficiency\", :display_name_short=>\"Inverter Efficiency\", :name=>\"inverter_efficiency\", :value_type=>\"double\", :default_value=>0.98, :value=>\"0.96\"}], @variables=[]>, #<OpenStudio::Analysis::WorkflowStep:0x000000000ccc5fb8 @name=\"envelope_and_internal_load_breakdown\", @display_name=\"Envelope and Internal Load Breakdown\", @type=\"ReportingMeasure\", @measure_definition_class_name=\"EnvelopeAndInternalLoadBreakdown\", @measure_definition_directory=\"./measures/envelope_and_internal_load_breakdown\", @measure_definition_directory_local=\"C:/Projects/osw_to_osa/.bundle/install/ruby/2.7.0/gems/openstudio-common-measures-0.7.0/lib/measures/envelope_and_internal_load_breakdown\", @measure_definition_display_name=\"Envelope and Internal Load Breakdown\", @measure_definition_name=\"envelope_and_internal_load_breakdown\", @measure_definition_name_xml=nil, @measure_definition_uuid=\"8f0e1fbb-8bc6-46e5-b6e4-db59177e2c02\", @measure_definition_version_uuid=\"094a25e3-d116-401e-8cdb-ae076a79079a\", @uuid=\"8f0e1fbb-8bc6-46e5-b6e4-db59177e2c02\", @version_uuid=\"094a25e3-d116-401e-8cdb-ae076a79079a\", @description=\"Report provides annual and monthly views into heat gains and losses for envelope and internal loads.\", @arguments=[{:display_name=>\"Skip Entire Measure\", :display_name_short=>\"Skip\", :name=>\"__SKIP__\", :value_type=>\"boolean\", :default_value=>false, :value=>false}], @variables=[]>, #<OpenStudio::Analysis::WorkflowStep:0x000000000d6b0f00 @name=\"openstudio_results\", @display_name=\"OpenStudio Results\", @type=\"ReportingMeasure\", @measure_definition_class_name=\"OpenStudioResults\", @measure_definition_directory=\"./measures/openstudio_results\", @measure_definition_directory_local=\"C:/Projects/osw_to_osa/.bundle/install/ruby/2.7.0/gems/openstudio-common-measures-0.7.0/lib/measures/openstudio_results\", @measure_definition_display_name=\"OpenStudio Results\", @measure_definition_name=\"openstudio_results\", @measure_definition_name_xml=nil, @measure_definition_uuid=\"a25386cd-60e4-46bc-8b11-c755f379d916\", @measure_definition_version_uuid=\"6b37673b-b0d8-4ab4-8f5a-0a48f170b4e8\", @uuid=\"a25386cd-60e4-46bc-8b11-c755f379d916\", @version_uuid=\"6b37673b-b0d8-4ab4-8f5a-0a48f170b4e8\", @description=\"This measure creates high level tables and charts pulling both from model inputs and EnergyPlus results. It has building level information as well as detail on space types, thermal zones, HVAC systems, envelope characteristics, and economics. Click the heading above a chart to view a table of the chart data.\", @arguments=[{:display_name=>\"Skip Entire Measure\", :display_name_short=>\"Skip\", :name=>\"__SKIP__\", :value_type=>\"boolean\", :default_value=>false, :value=>false}, {:display_name=>\"Which Unit System do you want to use?\", :display_name_short=>\"Which Unit System do you want to use?\", :name=>\"units\", :value_type=>\"string\", :default_value=>\"IP\", :value=>\"IP\"}, {:display_name=>\"Model Summary\", :display_name_short=>\"Model Summary\", :name=>\"building_summary_section\", :value_type=>\"boolean\", :default_value=>true, :value=>true}, {:display_name=>\"Annual Overview\", :display_name_short=>\"Annual Overview\", :name=>\"annual_overview_section\", :value_type=>\"boolean\", :default_value=>true, :value=>true}, {:display_name=>\"Monthly Overview\", :display_name_short=>\"Monthly Overview\", :name=>\"monthly_overview_section\", :value_type=>\"boolean\", :default_value=>true, :value=>true}, {:display_name=>\"Utility Bills/Rates\", :display_name_short=>\"Utility Bills/Rates\", :name=>\"utility_bills_rates_section\", :value_type=>\"boolean\", :default_value=>true, :value=>true}, {:display_name=>\"Envelope Summary\", :display_name_short=>\"Envelope Summary\", :name=>\"envelope_section_section\", :value_type=>\"boolean\", :default_value=>true, :value=>true}, {:display_name=>\"Space Type Breakdown\", :display_name_short=>\"Space Type Breakdown\", :name=>\"space_type_breakdown_section\", :value_type=>\"boolean\", :default_value=>true, :value=>true}, {:display_name=>\"Space Type Summary\", :display_name_short=>\"Space Type Summary\", :name=>\"space_type_details_section\", :value_type=>\"boolean\", :default_value=>true, :value=>true}, {:display_name=>\"Interior Lighting Summary\", :display_name_short=>\"Interior Lighting Summary\", :name=>\"interior_lighting_section\", :value_type=>\"boolean\", :default_value=>true, :value=>true}, {:display_name=>\"Plug Loads Summary\", :display_name_short=>\"Plug Loads Summary\", :name=>\"plug_loads_section\", :value_type=>\"boolean\", :default_value=>true, :value=>true}, {:display_name=>\"Exterior Lighting\", :display_name_short=>\"Exterior Lighting\", :name=>\"exterior_light_section\", :value_type=>\"boolean\", :default_value=>true, :value=>true}, {:display_name=>\"Water Use Equipment\", :display_name_short=>\"Water Use Equipment\", :name=>\"water_use_section\", :value_type=>\"boolean\", :default_value=>true, :value=>true}, {:display_name=>\"HVAC Load Profiles\", :display_name_short=>\"HVAC Load Profiles\", :name=>\"hvac_load_profile\", :value_type=>\"boolean\", :default_value=>true, :value=>true}, {:display_name=>\"Zone Conditions\", :display_name_short=>\"Zone Conditions\", :name=>\"zone_condition_section\", :value_type=>\"boolean\", :default_value=>true, :value=>false}, {:display_name=>\"Zone Overview\", :display_name_short=>\"Zone Overview\", :name=>\"zone_summary_section\", :value_type=>\"boolean\", :default_value=>true, :value=>true}, {:display_name=>\"Zone Equipment Detail\", :display_name_short=>\"Zone Equipment Detail\", :name=>\"zone_equipment_detail_section\", :value_type=>\"boolean\", :default_value=>true, :value=>true}, {:display_name=>\"Air Loops Detail\", :display_name_short=>\"Air Loops Detail\", :name=>\"air_loops_detail_section\", :value_type=>\"boolean\", :default_value=>true, :value=>true}, {:display_name=>\"Plant Loops Detail\", :display_name_short=>\"Plant Loops Detail\", :name=>\"plant_loops_detail_section\", :value_type=>\"boolean\", :default_value=>true, :value=>true}, {:display_name=>\"Outdoor Air\", :display_name_short=>\"Outdoor Air\", :name=>\"outdoor_air_section\", :value_type=>\"boolean\", :default_value=>true, :value=>true}, {:display_name=>\"Cash Flow\", :display_name_short=>\"Cash Flow\", :name=>\"cost_summary_section\", :value_type=>\"boolean\", :default_value=>true, :value=>true}, {:display_name=>\"Site and Source Summary\", :display_name_short=>\"Site and Source Summary\", :name=>\"source_energy_section\", :value_type=>\"boolean\", :default_value=>true, :value=>true}, {:display_name=>\"Schedule Overview\", :display_name_short=>\"Schedule Overview\", :name=>\"schedules_overview_section\", :value_type=>\"boolean\", :default_value=>true, :value=>true}, {:display_name=>\"Measure Warnings\", :display_name_short=>\"Measure Warnings\", :name=>\"measure_warning_section\", :value_type=>\"boolean\", :default_value=>true, :value=>true}, {:display_name=>\"Report monthly fuel and enduse breakdown to registerValue\", :display_name_short=>\"Report monthly fuel and enduse breakdown to registerValue\", :name=>\"reg_monthly_details\", :value_type=>\"boolean\", :default_value=>false, :value=>false}], @variables=[]>]"
      ]
     },
     "execution_count": 18,
     "metadata": {},
     "output_type": "execute_result"
    }
   ],
   "source": [
    "analysis.save_osa_zip('analysis.zip')"
   ]
  },
  {
   "cell_type": "code",
   "execution_count": 19,
   "id": "0a5f96f6-32fc-4257-9542-849a72d9a080",
   "metadata": {},
   "outputs": [
    {
     "name": "stdout",
     "output_type": "stream",
     "text": [
      "Command executed successfully\n",
      "3.5.0+7b14ce1588\n"
     ]
    }
   ],
   "source": [
    "require 'open3'\n",
    "\n",
    "#get path to OpenStudio CLI\n",
    "cli = OpenStudio.getOpenStudioCLI.to_s\n",
    "\n",
    "# Make a system call to get version\n",
    "stdout, stderr, status = Open3.capture3(\"#{cli} --version\")\n",
    "\n",
    "# Check the result\n",
    "if status.success?\n",
    "  puts \"Command executed successfully\"\n",
    "  puts stdout\n",
    "else\n",
    "  puts \"Command failed\"\n",
    "  puts stderr\n",
    "end"
   ]
  },
  {
   "cell_type": "code",
   "execution_count": 20,
   "id": "a55623e6-de71-4fb9-a7c2-67802593115c",
   "metadata": {},
   "outputs": [],
   "source": [
    "#Run the workflow\n",
    "#stdout, stderr, status = Open3.capture3(\"#{cli} run --debug --workflow in.osw\")\n",
    "#status"
   ]
  },
  {
   "cell_type": "code",
   "execution_count": 21,
   "id": "e1b88747-f3a6-4cd3-8d06-3bef363eae98",
   "metadata": {},
   "outputs": [
    {
     "data": {
      "text/plain": [
       "\"C:\\\\ParametricAnalysisTool-3.3.0\\\\pat\\\\ruby\\\\bin\\\\ruby\""
      ]
     },
     "execution_count": 21,
     "metadata": {},
     "output_type": "execute_result"
    }
   ],
   "source": [
    "#RUBY_CMD = 'ruby'\n",
    "RUBY_CMD = 'C:\\ParametricAnalysisTool-3.3.0\\pat\\ruby\\bin\\ruby'\n",
    "#META_CLI = File.absolute_path('/opt/OpenStudio-server/bin/openstudio_meta')\n",
    "META_CLI = File.absolute_path('C:\\ParametricAnalysisTool-3.3.0\\pat\\OpenStudio-server\\bin\\openstudio_meta')\n",
    "PROJECT = Dir.pwd\n",
    "#HOST = '192.168.65.3'\n",
    "HOST = 'localhost'\n",
    "\n",
    "@host = HOST\n",
    "@project = PROJECT\n",
    "@meta_cli = META_CLI\n",
    "@ruby_cmd = RUBY_CMD"
   ]
  },
  {
   "cell_type": "code",
   "execution_count": 22,
   "id": "972966b8-9d96-46e9-b9f1-e000566fcc6e",
   "metadata": {},
   "outputs": [
    {
     "data": {
      "text/plain": [
       "\"C:\\\\ParametricAnalysisTool-3.3.0\\\\pat\\\\ruby\\\\bin\\\\ruby C:/ParametricAnalysisTool-3.3.0/pat/OpenStudio-server/bin/openstudio_meta run_analysis 'C:/Projects/osw_to_osa/workflows/bar_typical/analysis.json' 'http://localhost' -z 'analysis' -a single_run\""
      ]
     },
     "execution_count": 22,
     "metadata": {},
     "output_type": "execute_result"
    }
   ],
   "source": [
    "command = \"#{@ruby_cmd} #{@meta_cli} run_analysis '#{@project}/analysis.json' 'http://#{@host}' -z 'analysis' -a single_run\""
   ]
  },
  {
   "cell_type": "code",
   "execution_count": 23,
   "id": "f5bf8d2a-2b1c-4d49-9d68-b4f56d63b8fa",
   "metadata": {},
   "outputs": [
    {
     "name": "stdout",
     "output_type": "stream",
     "text": [
      "Command executed successfully\n",
      "OpenStudio did not load, but most functionality is still available. Will continue...\n",
      "new project created with ID: 1f8d1935-1551-48e1-b39e-c828132ad03e\n",
      "asked to create analysis with 514ea792-6664-4ea4-a3c7-c384091a7f2a\n",
      "options[:push_to_dencity] = false\n",
      "new analysis created with ID: 514ea792-6664-4ea4-a3c7-c384091a7f2a\n",
      "Successfully uploaded ZIP file\n",
      "Run analysis is configured with {\"analysis_action\":\"start\",\"without_delay\":false,\"analysis_type\":\"single_run\",\"simulate_data_point_filename\":\"simulate_data_point.rb\",\"run_data_point_filename\":\"run_openstudio_workflow_monthly.rb\"}\n",
      "Received request to run analysis 514ea792-6664-4ea4-a3c7-c384091a7f2a\n",
      "Run analysis is configured with {\"analysis_action\":\"start\",\"without_delay\":false,\"analysis_type\":\"batch_run\",\"simulate_data_point_filename\":\"simulate_data_point.rb\",\"run_data_point_filename\":\"run_openstudio_workflow_monthly.rb\"}\n",
      "Received request to run analysis 514ea792-6664-4ea4-a3c7-c384091a7f2a\n"
     ]
    }
   ],
   "source": [
    "require 'open3'\n",
    "\n",
    "# Make a system call to get version\n",
    "stdout, stderr, status = Open3.capture3(\"#{command}\")\n",
    "\n",
    "# Check the result\n",
    "if status.success?\n",
    "  puts \"Command executed successfully\"\n",
    "  puts stdout\n",
    "else\n",
    "  puts \"Command failed\"\n",
    "  puts stderr\n",
    "end"
   ]
  },
  {
   "cell_type": "code",
   "execution_count": null,
   "id": "c16ad946-89fe-4130-92b7-3c405fc31588",
   "metadata": {},
   "outputs": [],
   "source": []
  }
 ],
 "metadata": {
  "kernelspec": {
   "display_name": "Ruby 2.7.2",
   "language": "ruby",
   "name": "ruby"
  },
  "language_info": {
   "file_extension": ".rb",
   "mimetype": "application/x-ruby",
   "name": "ruby",
   "version": "2.7.2"
  }
 },
 "nbformat": 4,
 "nbformat_minor": 5
}
