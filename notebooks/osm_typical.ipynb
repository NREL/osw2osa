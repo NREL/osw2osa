{
 "cells": [
  {
   "cell_type": "code",
   "execution_count": 1,
   "id": "8051b9d4-19ec-48e2-ba06-5dc10d7e27cc",
   "metadata": {},
   "outputs": [
    {
     "name": "stderr",
     "output_type": "stream",
     "text": [
      "Top level ::CompositeIO is deprecated, require 'multipart/post' and use `Multipart::Post::CompositeReadIO` instead!\n",
      "Top level ::Parts is deprecated, require 'multipart/post' and use `Multipart::Post::Parts` instead!\n"
     ]
    },
    {
     "data": {
      "text/plain": [
       "false"
      ]
     },
     "execution_count": 1,
     "metadata": {},
     "output_type": "execute_result"
    }
   ],
   "source": [
    "require 'openstudio-analysis'\n",
    "require 'openstudio'"
   ]
  },
  {
   "cell_type": "code",
   "execution_count": 2,
   "id": "e04468d9-ef22-4f2b-8570-4d04f8866797",
   "metadata": {},
   "outputs": [
    {
     "data": {
      "text/plain": [
       "\"1.3.2\""
      ]
     },
     "execution_count": 2,
     "metadata": {},
     "output_type": "execute_result"
    }
   ],
   "source": [
    "OpenStudio::Analysis::VERSION"
   ]
  },
  {
   "cell_type": "code",
   "execution_count": 3,
   "id": "1aaec77f-4f72-4f7b-8159-de20317a5407",
   "metadata": {},
   "outputs": [
    {
     "data": {
      "text/plain": [
       "0"
      ]
     },
     "execution_count": 3,
     "metadata": {},
     "output_type": "execute_result"
    }
   ],
   "source": [
    "Dir.chdir \"../workflows/osm_typical\""
   ]
  },
  {
   "cell_type": "code",
   "execution_count": 4,
   "id": "b8518791-afe9-4cdf-9f49-3f3e428c6fa6",
   "metadata": {},
   "outputs": [
    {
     "data": {
      "text/plain": [
       "#<OpenStudio::Analysis::Formulation:0x0000000009986940 @display_name=\"OSM Typical\", @analysis_type=nil, @outputs=[], @workflow=#<OpenStudio::Analysis::Workflow:0x00000000099868a0 @items=[]>, @weather_file=#<struct OpenStudio::Analysis::WeatherFile file=nil>, @seed_model=#<struct OpenStudio::Analysis::SeedModel file=nil>, @algorithm=#<OpenStudio::Analysis::AlgorithmAttributes:0x0000000009986800 @attributes={:seed=>nil, :failed_f_value=>1000000000000000000, :debug_messages=>1}>, @weather_files=#<OpenStudio::Analysis::SupportFiles:0x00000000099867b0 @files=[]>, @seed_models=#<OpenStudio::Analysis::SupportFiles:0x0000000009986760 @files=[]>, @worker_inits=#<OpenStudio::Analysis::SupportFiles:0x0000000009986620 @files=[]>, @worker_finalizes=#<OpenStudio::Analysis::SupportFiles:0x0000000009986490 @files=[]>, @libraries=#<OpenStudio::Analysis::SupportFiles:0x00000000099863a0 @files=[]>, @server_scripts=#<OpenStudio::Analysis::ServerScripts:0x00000000099862b0 @files=[]>>"
      ]
     },
     "execution_count": 4,
     "metadata": {},
     "output_type": "execute_result"
    },
    {
     "name": "stderr",
     "output_type": "stream",
     "text": [
      "Could not resolve a valid weather file. Check paths to weather files\n"
     ]
    }
   ],
   "source": [
    "analysis = OpenStudio::Analysis.create('OSM Typical')\n"
   ]
  },
  {
   "cell_type": "code",
   "execution_count": 5,
   "id": "56970884-f6f7-4ff0-959a-d9b43d4350e8",
   "metadata": {},
   "outputs": [
    {
     "data": {
      "text/plain": [
       "[\"C:/Projects/osw_to_osa/.bundle/install/ruby/2.7.0/gems/openstudio-model-articulation-0.7.0/lib/measures\", \"C:/Projects/osw_to_osa/.bundle/install/ruby/2.7.0/gems/openstudio-common-measures-0.7.0/lib/measures\", \"C:/Projects/osw_to_osa/measures\"]"
      ]
     },
     "execution_count": 5,
     "metadata": {},
     "output_type": "execute_result"
    }
   ],
   "source": [
    "paths = [\n",
    "'C:/Projects/osw_to_osa/.bundle/install/ruby/2.7.0/gems/openstudio-model-articulation-0.7.0/lib/measures',\n",
    "'C:/Projects/osw_to_osa/.bundle/install/ruby/2.7.0/gems/openstudio-common-measures-0.7.0/lib/measures',\n",
    "'C:/Projects/osw_to_osa/measures'\n",
    "]"
   ]
  },
  {
   "cell_type": "code",
   "execution_count": 6,
   "id": "a0269456-51ec-44b2-8f97-4b5992f263ac",
   "metadata": {},
   "outputs": [
    {
     "name": "stdout",
     "output_type": "stream",
     "text": [
      "searching for seed at: C:/Projects/osw_to_osa/seeds/seed_empty.osm\n",
      "found seed_file: seed_empty.osm\n"
     ]
    },
    {
     "name": "stderr",
     "output_type": "stream",
     "text": [
      "osw[:weather_file] is not defined\n"
     ]
    },
    {
     "name": "stdout",
     "output_type": "stream",
     "text": [
      "measure_dir_name: ReplaceModel\n",
      "searching for xml's in: [\"C:/Projects/osw_to_osa/workflows/osm_typical/ReplaceModel/measure.xml\", \"C:/Projects/openstudio-common-measures-gem/lib/measures/ReplaceModel/measure.xml\", \"C:/Projects/openstudio-model-articulation-gem/lib/measures/ReplaceModel/measure.xml\", \"C:/Projects/osw_to_osa/.bundle/install/ruby/2.7.0/gems/openstudio-model-articulation-0.7.0/lib/measures/ReplaceModel/measure.xml\", \"C:/Projects/osw_to_osa/.bundle/install/ruby/2.7.0/gems/openstudio-common-measures-0.7.0/lib/measures/ReplaceModel/measure.xml\", \"C:/Projects/osw_to_osa/measures/ReplaceModel/measure.xml\"]\n",
      "found xml: C:/Projects/osw_to_osa/measures/ReplaceModel/measure.xml\n",
      "\n",
      "measure_dir_name: ChangeBuildingLocation\n",
      "searching for xml's in: [\"C:/Projects/osw_to_osa/workflows/osm_typical/ChangeBuildingLocation/measure.xml\", \"C:/Projects/openstudio-common-measures-gem/lib/measures/ChangeBuildingLocation/measure.xml\", \"C:/Projects/openstudio-model-articulation-gem/lib/measures/ChangeBuildingLocation/measure.xml\", \"C:/Projects/osw_to_osa/.bundle/install/ruby/2.7.0/gems/openstudio-model-articulation-0.7.0/lib/measures/ChangeBuildingLocation/measure.xml\", \"C:/Projects/osw_to_osa/.bundle/install/ruby/2.7.0/gems/openstudio-common-measures-0.7.0/lib/measures/ChangeBuildingLocation/measure.xml\", \"C:/Projects/osw_to_osa/measures/ChangeBuildingLocation/measure.xml\"]\n",
      "found xml: C:/Projects/osw_to_osa/.bundle/install/ruby/2.7.0/gems/openstudio-common-measures-0.7.0/lib/measures/ChangeBuildingLocation/measure.xml\n",
      "\n",
      "measure_dir_name: create_typical_doe_building_from_model\n",
      "searching for xml's in: [\"C:/Projects/osw_to_osa/workflows/osm_typical/create_typical_doe_building_from_model/measure.xml\", \"C:/Projects/openstudio-common-measures-gem/lib/measures/create_typical_doe_building_from_model/measure.xml\", \"C:/Projects/openstudio-model-articulation-gem/lib/measures/create_typical_doe_building_from_model/measure.xml\", \"C:/Projects/osw_to_osa/.bundle/install/ruby/2.7.0/gems/openstudio-model-articulation-0.7.0/lib/measures/create_typical_doe_building_from_model/measure.xml\", \"C:/Projects/osw_to_osa/.bundle/install/ruby/2.7.0/gems/openstudio-common-measures-0.7.0/lib/measures/create_typical_doe_building_from_model/measure.xml\", \"C:/Projects/osw_to_osa/measures/create_typical_doe_building_from_model/measure.xml\"]\n",
      "found xml: C:/Projects/osw_to_osa/.bundle/install/ruby/2.7.0/gems/openstudio-model-articulation-0.7.0/lib/measures/create_typical_doe_building_from_model/measure.xml\n",
      "\n",
      "measure_dir_name: view_model\n",
      "searching for xml's in: [\"C:/Projects/osw_to_osa/workflows/osm_typical/view_model/measure.xml\", \"C:/Projects/openstudio-common-measures-gem/lib/measures/view_model/measure.xml\", \"C:/Projects/openstudio-model-articulation-gem/lib/measures/view_model/measure.xml\", \"C:/Projects/osw_to_osa/.bundle/install/ruby/2.7.0/gems/openstudio-model-articulation-0.7.0/lib/measures/view_model/measure.xml\", \"C:/Projects/osw_to_osa/.bundle/install/ruby/2.7.0/gems/openstudio-common-measures-0.7.0/lib/measures/view_model/measure.xml\", \"C:/Projects/osw_to_osa/measures/view_model/measure.xml\"]\n",
      "found xml: C:/Projects/osw_to_osa/.bundle/install/ruby/2.7.0/gems/openstudio-common-measures-0.7.0/lib/measures/view_model/measure.xml\n",
      "\n",
      "measure_dir_name: add_rooftop_pv\n",
      "searching for xml's in: [\"C:/Projects/osw_to_osa/workflows/osm_typical/add_rooftop_pv/measure.xml\", \"C:/Projects/openstudio-common-measures-gem/lib/measures/add_rooftop_pv/measure.xml\", \"C:/Projects/openstudio-model-articulation-gem/lib/measures/add_rooftop_pv/measure.xml\", \"C:/Projects/osw_to_osa/.bundle/install/ruby/2.7.0/gems/openstudio-model-articulation-0.7.0/lib/measures/add_rooftop_pv/measure.xml\", \"C:/Projects/osw_to_osa/.bundle/install/ruby/2.7.0/gems/openstudio-common-measures-0.7.0/lib/measures/add_rooftop_pv/measure.xml\", \"C:/Projects/osw_to_osa/measures/add_rooftop_pv/measure.xml\"]\n",
      "found xml: C:/Projects/osw_to_osa/.bundle/install/ruby/2.7.0/gems/openstudio-common-measures-0.7.0/lib/measures/add_rooftop_pv/measure.xml\n",
      "\n",
      "measure_dir_name: envelope_and_internal_load_breakdown\n",
      "searching for xml's in: [\"C:/Projects/osw_to_osa/workflows/osm_typical/envelope_and_internal_load_breakdown/measure.xml\", \"C:/Projects/openstudio-common-measures-gem/lib/measures/envelope_and_internal_load_breakdown/measure.xml\", \"C:/Projects/openstudio-model-articulation-gem/lib/measures/envelope_and_internal_load_breakdown/measure.xml\", \"C:/Projects/osw_to_osa/.bundle/install/ruby/2.7.0/gems/openstudio-model-articulation-0.7.0/lib/measures/envelope_and_internal_load_breakdown/measure.xml\", \"C:/Projects/osw_to_osa/.bundle/install/ruby/2.7.0/gems/openstudio-common-measures-0.7.0/lib/measures/envelope_and_internal_load_breakdown/measure.xml\", \"C:/Projects/osw_to_osa/measures/envelope_and_internal_load_breakdown/measure.xml\"]\n",
      "found xml: C:/Projects/osw_to_osa/.bundle/install/ruby/2.7.0/gems/openstudio-common-measures-0.7.0/lib/measures/envelope_and_internal_load_breakdown/measure.xml\n",
      "\n",
      "measure_dir_name: openstudio_results\n",
      "searching for xml's in: [\"C:/Projects/osw_to_osa/workflows/osm_typical/openstudio_results/measure.xml\", \"C:/Projects/openstudio-common-measures-gem/lib/measures/openstudio_results/measure.xml\", \"C:/Projects/openstudio-model-articulation-gem/lib/measures/openstudio_results/measure.xml\", \"C:/Projects/osw_to_osa/.bundle/install/ruby/2.7.0/gems/openstudio-model-articulation-0.7.0/lib/measures/openstudio_results/measure.xml\", \"C:/Projects/osw_to_osa/.bundle/install/ruby/2.7.0/gems/openstudio-common-measures-0.7.0/lib/measures/openstudio_results/measure.xml\", \"C:/Projects/osw_to_osa/measures/openstudio_results/measure.xml\"]\n",
      "found xml: C:/Projects/osw_to_osa/.bundle/install/ruby/2.7.0/gems/openstudio-common-measures-0.7.0/lib/measures/openstudio_results/measure.xml\n",
      "\n"
     ]
    },
    {
     "data": {
      "text/plain": [
       "[{:arguments=>{:external_model_name=>\"geo_stub_space_types.osm\"}, :measure_dir_name=>\"ReplaceModel\"}, {:arguments=>{:set_year=>\"2019\", :weather_file_name=>\"USA_IL_Chicago-OHare.Intl.AP.725300_TMY3.epw\"}, :measure_dir_name=>\"ChangeBuildingLocation\"}, {:arguments=>{:__SKIP__=>false}, :measure_dir_name=>\"create_typical_doe_building_from_model\"}, {:arguments=>{:__SKIP__=>false}, :measure_dir_name=>\"view_model\"}, {:arguments=>{:__SKIP__=>false, :fraction_of_surface=>\"0.75\", :cell_efficiency=>\"0.1976\", :inverter_efficiency=>\"0.96\"}, :measure_dir_name=>\"add_rooftop_pv\"}, {:arguments=>{:__SKIP__=>false}, :measure_dir_name=>\"envelope_and_internal_load_breakdown\"}, {:arguments=>{:zone_condition_section=>false}, :measure_dir_name=>\"openstudio_results\"}]"
      ]
     },
     "execution_count": 6,
     "metadata": {},
     "output_type": "execute_result"
    }
   ],
   "source": [
    "analysis.convert_osw('in.osw', paths)"
   ]
  },
  {
   "cell_type": "code",
   "execution_count": 7,
   "id": "bc26a64a-3b50-4880-b873-2059a432dc1d",
   "metadata": {},
   "outputs": [
    {
     "data": {
      "text/plain": [
       "#<OpenStudio::Analysis::WorkflowStep:0x000000000c57cb58 @name=\"replace_model\", @display_name=\"Replace OpenStudio Model\", @type=\"ModelMeasure\", @measure_definition_class_name=\"ReplaceModel\", @measure_definition_directory=\"./measures/ReplaceModel\", @measure_definition_directory_local=\"C:/Projects/osw_to_osa/measures/ReplaceModel\", @measure_definition_display_name=\"Replace OpenStudio Model\", @measure_definition_name=\"replace_model\", @measure_definition_name_xml=nil, @measure_definition_uuid=\"54f03343-5b5c-42f4-818c-5e6de6ded489\", @measure_definition_version_uuid=\"3d5a8c1a-2085-4cc6-9b16-8ac8317cf1e2\", @uuid=\"54f03343-5b5c-42f4-818c-5e6de6ded489\", @version_uuid=\"3d5a8c1a-2085-4cc6-9b16-8ac8317cf1e2\", @description=nil, @arguments=[{:display_name=>\"Skip Entire Measure\", :display_name_short=>\"Skip\", :name=>\"__SKIP__\", :value_type=>\"boolean\", :default_value=>false, :value=>false}, {:display_name=>\"External OSM File Name\", :display_name_short=>\"External OSM File Name\", :name=>\"external_model_name\", :value_type=>\"string\", :default_value=>nil, :value=>\"geo_stub_space_types.osm\"}], @variables=[]>"
      ]
     },
     "execution_count": 7,
     "metadata": {},
     "output_type": "execute_result"
    }
   ],
   "source": [
    "m = analysis.workflow.find_measure('replace_model')"
   ]
  },
  {
   "cell_type": "code",
   "execution_count": 8,
   "id": "29d7ae05-2699-4fcf-ace3-d4a793230e6d",
   "metadata": {},
   "outputs": [
    {
     "data": {
      "text/plain": [
       "true"
      ]
     },
     "execution_count": 8,
     "metadata": {},
     "output_type": "execute_result"
    }
   ],
   "source": [
    "m.argument_value('external_model_name','../../lib/seeds/geo_stub_space_types.osm')"
   ]
  },
  {
   "cell_type": "code",
   "execution_count": 9,
   "id": "f88b7ee8-a24c-4459-9239-87951d93a601",
   "metadata": {},
   "outputs": [
    {
     "data": {
      "text/plain": [
       "\"C:/Projects/osw_to_osa/weather/USA_IL_Chicago-OHare.Intl.AP.725300_TMY3.epw\""
      ]
     },
     "execution_count": 9,
     "metadata": {},
     "output_type": "execute_result"
    }
   ],
   "source": [
    "analysis.weather_file = 'C:/Projects/osw_to_osa/weather/USA_IL_Chicago-OHare.Intl.AP.725300_TMY3.epw'"
   ]
  },
  {
   "cell_type": "code",
   "execution_count": 10,
   "id": "02aff9fc-9fc7-41b3-a485-e54461206ecd",
   "metadata": {},
   "outputs": [
    {
     "data": {
      "text/plain": [
       "29897"
      ]
     },
     "execution_count": 10,
     "metadata": {},
     "output_type": "execute_result"
    }
   ],
   "source": [
    "File.write('analysis.json',JSON.pretty_generate(analysis.to_hash))"
   ]
  },
  {
   "cell_type": "code",
   "execution_count": null,
   "id": "2b954cc3-e6b1-4d91-917a-6dd43dd53175",
   "metadata": {},
   "outputs": [],
   "source": []
  },
  {
   "cell_type": "code",
   "execution_count": 11,
   "id": "a15e456c-1c75-4cf2-a565-c2b1c249e23f",
   "metadata": {},
   "outputs": [
    {
     "data": {
      "text/plain": [
       "true"
      ]
     },
     "execution_count": 11,
     "metadata": {},
     "output_type": "execute_result"
    }
   ],
   "source": [
    "analysis.libraries.add('../../seeds', {library_name: 'seeds'})"
   ]
  },
  {
   "cell_type": "code",
   "execution_count": 12,
   "id": "585ab0f1-8810-47f8-bf4d-34bc759bc4c5",
   "metadata": {},
   "outputs": [
    {
     "name": "stdout",
     "output_type": "stream",
     "text": [
      "osw_path: C:/Projects/osw_to_osa/workflows/osm_typical/in.osw\n",
      "osw_full_path: C:/Projects/osw_to_osa/workflows/osm_typical\n",
      "Adding Support Files: Weather\n",
      "  Adding C:/Projects/osw_to_osa/weather/USA_IL_Chicago-OHare.Intl.AP.725300_TMY3.epw\n",
      "base_name: USA_IL_Chicago-OHare.Intl.AP.725300_TMY3\n",
      "weather_dirname: C:/Projects/osw_to_osa/weather\n",
      "file_path: C:/Projects/osw_to_osa/weather/USA_IL_Chicago-OHare.Intl.AP.725300_TMY3.ddy\n",
      "zip path: weather/USA_IL_Chicago-OHare.Intl.AP.725300_TMY3.ddy\n",
      "file_path: C:/Projects/osw_to_osa/weather/USA_IL_Chicago-OHare.Intl.AP.725300_TMY3.epw\n",
      "zip path: weather/USA_IL_Chicago-OHare.Intl.AP.725300_TMY3.epw\n",
      "file_path: C:/Projects/osw_to_osa/weather/USA_IL_Chicago-OHare.Intl.AP.725300_TMY3.stat\n",
      "zip path: weather/USA_IL_Chicago-OHare.Intl.AP.725300_TMY3.stat\n",
      "Adding Support Files: Seed Models\n",
      "  Adding C:/Projects/osw_to_osa/seeds/seed_empty.osm\n",
      "Adding Support Files: Libraries\n",
      "  Adding ../../seeds/aedg_retail.osm\n",
      "  Adding ../../seeds/example_multi.osm\n",
      "  Adding ../../seeds/example_multi_custom_geo.osm\n",
      "  Adding ../../seeds/example_multi_template.osm\n",
      "  Adding ../../seeds/geo_stub_space_types.osm\n",
      "  Adding ../../seeds/retail_seed.osm\n",
      "  Adding ../../seeds/SDDC Office template.osm\n",
      "  Adding ../../seeds/seed_empty.osm\n",
      "  Adding ../../seeds/unit_101.osm\n",
      "  Adding ../../seeds/unit_102.osm\n",
      "  Adding ../../seeds/unit_103.osm\n",
      "  Adding ../../seeds/unit_104.osm\n",
      "  Adding ../../seeds/unit_105.osm\n",
      "  Adding ../../seeds/unit_106.osm\n",
      "  Adding ../../seeds/unit_107.osm\n",
      "  Adding ../../seeds/unit_108.osm\n",
      "  Adding ../../seeds/unit_109.osm\n",
      "  Adding ../../seeds/unit_201.osm\n",
      "  Adding ../../seeds/unit_202.osm\n",
      "  Adding ../../seeds/unit_203.osm\n",
      "  Adding ../../seeds/unit_204.osm\n",
      "  Adding ../../seeds/unit_205.osm\n",
      "  Adding ../../seeds/unit_206.osm\n",
      "  Adding ../../seeds/unit_207.osm\n",
      "  Adding ../../seeds/unit_208.osm\n",
      "  Adding ../../seeds/unit_209.osm\n",
      "Adding Support Files: Server Scripts\n",
      "Adding Measures\n",
      "  Adding ReplaceModel\n",
      "    Adding File C:/Projects/osw_to_osa/measures/ReplaceModel/measure.rb\n",
      "    Adding File C:/Projects/osw_to_osa/measures/ReplaceModel/measure.xml\n",
      "  Adding ChangeBuildingLocation\n",
      "    Adding File C:/Projects/osw_to_osa/.bundle/install/ruby/2.7.0/gems/openstudio-common-measures-0.7.0/lib/measures/ChangeBuildingLocation/LICENSE.md\n",
      "    Adding File C:/Projects/osw_to_osa/.bundle/install/ruby/2.7.0/gems/openstudio-common-measures-0.7.0/lib/measures/ChangeBuildingLocation/measure.rb\n",
      "    Adding File C:/Projects/osw_to_osa/.bundle/install/ruby/2.7.0/gems/openstudio-common-measures-0.7.0/lib/measures/ChangeBuildingLocation/measure.xml\n",
      "    Adding File C:/Projects/osw_to_osa/.bundle/install/ruby/2.7.0/gems/openstudio-common-measures-0.7.0/lib/measures/ChangeBuildingLocation/README.md\n",
      "    Adding File C:/Projects/osw_to_osa/.bundle/install/ruby/2.7.0/gems/openstudio-common-measures-0.7.0/lib/measures/ChangeBuildingLocation/README.md.erb\n",
      "Add Directory C:/Projects/osw_to_osa/.bundle/install/ruby/2.7.0/gems/openstudio-common-measures-0.7.0/lib/measures/ChangeBuildingLocation/resources\n",
      "Adding File C:/Projects/osw_to_osa/.bundle/install/ruby/2.7.0/gems/openstudio-common-measures-0.7.0/lib/measures/ChangeBuildingLocation/resources/epw.rb\n",
      "Adding File C:/Projects/osw_to_osa/.bundle/install/ruby/2.7.0/gems/openstudio-common-measures-0.7.0/lib/measures/ChangeBuildingLocation/resources/stat_file.rb\n",
      "  Adding create_typical_doe_building_from_model\n",
      "    Adding File C:/Projects/osw_to_osa/.bundle/install/ruby/2.7.0/gems/openstudio-model-articulation-0.7.0/lib/measures/create_typical_doe_building_from_model/LICENSE.md\n",
      "    Adding File C:/Projects/osw_to_osa/.bundle/install/ruby/2.7.0/gems/openstudio-model-articulation-0.7.0/lib/measures/create_typical_doe_building_from_model/measure.rb\n",
      "    Adding File C:/Projects/osw_to_osa/.bundle/install/ruby/2.7.0/gems/openstudio-model-articulation-0.7.0/lib/measures/create_typical_doe_building_from_model/measure.xml\n",
      "    Adding File C:/Projects/osw_to_osa/.bundle/install/ruby/2.7.0/gems/openstudio-model-articulation-0.7.0/lib/measures/create_typical_doe_building_from_model/README.md\n",
      "    Adding File C:/Projects/osw_to_osa/.bundle/install/ruby/2.7.0/gems/openstudio-model-articulation-0.7.0/lib/measures/create_typical_doe_building_from_model/README.md.erb\n",
      "Add Directory C:/Projects/osw_to_osa/.bundle/install/ruby/2.7.0/gems/openstudio-model-articulation-0.7.0/lib/measures/create_typical_doe_building_from_model/resources\n",
      "Adding File C:/Projects/osw_to_osa/.bundle/install/ruby/2.7.0/gems/openstudio-model-articulation-0.7.0/lib/measures/create_typical_doe_building_from_model/resources/Model.hvac.rb\n",
      "  Adding view_model\n",
      "    Adding File C:/Projects/osw_to_osa/.bundle/install/ruby/2.7.0/gems/openstudio-common-measures-0.7.0/lib/measures/view_model/LICENSE.md\n",
      "    Adding File C:/Projects/osw_to_osa/.bundle/install/ruby/2.7.0/gems/openstudio-common-measures-0.7.0/lib/measures/view_model/measure.rb\n",
      "    Adding File C:/Projects/osw_to_osa/.bundle/install/ruby/2.7.0/gems/openstudio-common-measures-0.7.0/lib/measures/view_model/measure.xml\n",
      "    Adding File C:/Projects/osw_to_osa/.bundle/install/ruby/2.7.0/gems/openstudio-common-measures-0.7.0/lib/measures/view_model/README.md\n",
      "    Adding File C:/Projects/osw_to_osa/.bundle/install/ruby/2.7.0/gems/openstudio-common-measures-0.7.0/lib/measures/view_model/README.md.erb\n",
      "Add Directory C:/Projects/osw_to_osa/.bundle/install/ruby/2.7.0/gems/openstudio-common-measures-0.7.0/lib/measures/view_model/resources\n",
      "Adding File C:/Projects/osw_to_osa/.bundle/install/ruby/2.7.0/gems/openstudio-common-measures-0.7.0/lib/measures/view_model/resources/report.html.in\n",
      "Adding File C:/Projects/osw_to_osa/.bundle/install/ruby/2.7.0/gems/openstudio-common-measures-0.7.0/lib/measures/view_model/resources/va3c.rb\n",
      "  Adding add_rooftop_pv\n",
      "    Adding File C:/Projects/osw_to_osa/.bundle/install/ruby/2.7.0/gems/openstudio-common-measures-0.7.0/lib/measures/add_rooftop_pv/LICENSE.md\n",
      "    Adding File C:/Projects/osw_to_osa/.bundle/install/ruby/2.7.0/gems/openstudio-common-measures-0.7.0/lib/measures/add_rooftop_pv/measure.rb\n",
      "    Adding File C:/Projects/osw_to_osa/.bundle/install/ruby/2.7.0/gems/openstudio-common-measures-0.7.0/lib/measures/add_rooftop_pv/measure.xml\n",
      "    Adding File C:/Projects/osw_to_osa/.bundle/install/ruby/2.7.0/gems/openstudio-common-measures-0.7.0/lib/measures/add_rooftop_pv/README.md\n",
      "    Adding File C:/Projects/osw_to_osa/.bundle/install/ruby/2.7.0/gems/openstudio-common-measures-0.7.0/lib/measures/add_rooftop_pv/README.md.erb\n",
      "  Adding envelope_and_internal_load_breakdown\n",
      "    Adding File C:/Projects/osw_to_osa/.bundle/install/ruby/2.7.0/gems/openstudio-common-measures-0.7.0/lib/measures/envelope_and_internal_load_breakdown/LICENSE.md\n",
      "    Adding File C:/Projects/osw_to_osa/.bundle/install/ruby/2.7.0/gems/openstudio-common-measures-0.7.0/lib/measures/envelope_and_internal_load_breakdown/measure.rb\n",
      "    Adding File C:/Projects/osw_to_osa/.bundle/install/ruby/2.7.0/gems/openstudio-common-measures-0.7.0/lib/measures/envelope_and_internal_load_breakdown/measure.xml\n",
      "    Adding File C:/Projects/osw_to_osa/.bundle/install/ruby/2.7.0/gems/openstudio-common-measures-0.7.0/lib/measures/envelope_and_internal_load_breakdown/README.md\n",
      "    Adding File C:/Projects/osw_to_osa/.bundle/install/ruby/2.7.0/gems/openstudio-common-measures-0.7.0/lib/measures/envelope_and_internal_load_breakdown/README.md.erb\n",
      "Add Directory C:/Projects/osw_to_osa/.bundle/install/ruby/2.7.0/gems/openstudio-common-measures-0.7.0/lib/measures/envelope_and_internal_load_breakdown/resources\n",
      "Adding File C:/Projects/osw_to_osa/.bundle/install/ruby/2.7.0/gems/openstudio-common-measures-0.7.0/lib/measures/envelope_and_internal_load_breakdown/resources/os_lib_reporting_envelope_and_internal_loads_breakdown.rb\n",
      "Adding File C:/Projects/osw_to_osa/.bundle/install/ruby/2.7.0/gems/openstudio-common-measures-0.7.0/lib/measures/envelope_and_internal_load_breakdown/resources/report.html.erb\n",
      "  Adding openstudio_results\n",
      "    Adding File C:/Projects/osw_to_osa/.bundle/install/ruby/2.7.0/gems/openstudio-common-measures-0.7.0/lib/measures/openstudio_results/LICENSE.md\n",
      "    Adding File C:/Projects/osw_to_osa/.bundle/install/ruby/2.7.0/gems/openstudio-common-measures-0.7.0/lib/measures/openstudio_results/measure.rb\n",
      "    Adding File C:/Projects/osw_to_osa/.bundle/install/ruby/2.7.0/gems/openstudio-common-measures-0.7.0/lib/measures/openstudio_results/measure.xml\n",
      "    Adding File C:/Projects/osw_to_osa/.bundle/install/ruby/2.7.0/gems/openstudio-common-measures-0.7.0/lib/measures/openstudio_results/README.md\n",
      "    Adding File C:/Projects/osw_to_osa/.bundle/install/ruby/2.7.0/gems/openstudio-common-measures-0.7.0/lib/measures/openstudio_results/README.md.erb\n",
      "Add Directory C:/Projects/osw_to_osa/.bundle/install/ruby/2.7.0/gems/openstudio-common-measures-0.7.0/lib/measures/openstudio_results/resources\n",
      "Adding File C:/Projects/osw_to_osa/.bundle/install/ruby/2.7.0/gems/openstudio-common-measures-0.7.0/lib/measures/openstudio_results/resources/os_lib_reporting.rb\n",
      "Adding File C:/Projects/osw_to_osa/.bundle/install/ruby/2.7.0/gems/openstudio-common-measures-0.7.0/lib/measures/openstudio_results/resources/report.html.erb\n",
      "Adding File C:/Projects/osw_to_osa/.bundle/install/ruby/2.7.0/gems/openstudio-common-measures-0.7.0/lib/measures/openstudio_results/resources/Siz.AirConditionerVariableRefrigerantFlow.rb\n",
      "Adding File C:/Projects/osw_to_osa/.bundle/install/ruby/2.7.0/gems/openstudio-common-measures-0.7.0/lib/measures/openstudio_results/resources/Siz.AirLoopHVAC.rb\n",
      "Adding File C:/Projects/osw_to_osa/.bundle/install/ruby/2.7.0/gems/openstudio-common-measures-0.7.0/lib/measures/openstudio_results/resources/Siz.AirLoopHVACUnitaryHeatCoolVAVChangeoverBypass.rb\n",
      "Adding File C:/Projects/osw_to_osa/.bundle/install/ruby/2.7.0/gems/openstudio-common-measures-0.7.0/lib/measures/openstudio_results/resources/Siz.AirLoopHVACUnitaryHeatPumpAirToAir.rb\n",
      "Adding File C:/Projects/osw_to_osa/.bundle/install/ruby/2.7.0/gems/openstudio-common-measures-0.7.0/lib/measures/openstudio_results/resources/Siz.AirLoopHVACUnitaryHeatPumpAirToAirMultiSpeed.rb\n",
      "Adding File C:/Projects/osw_to_osa/.bundle/install/ruby/2.7.0/gems/openstudio-common-measures-0.7.0/lib/measures/openstudio_results/resources/Siz.AirLoopHVACUnitarySystem.rb\n",
      "Adding File C:/Projects/osw_to_osa/.bundle/install/ruby/2.7.0/gems/openstudio-common-measures-0.7.0/lib/measures/openstudio_results/resources/Siz.AirTerminalDualDuctVAV.rb\n",
      "Adding File C:/Projects/osw_to_osa/.bundle/install/ruby/2.7.0/gems/openstudio-common-measures-0.7.0/lib/measures/openstudio_results/resources/Siz.AirTerminalSingleDuctConstantVolumeCooledBeam.rb\n",
      "Adding File C:/Projects/osw_to_osa/.bundle/install/ruby/2.7.0/gems/openstudio-common-measures-0.7.0/lib/measures/openstudio_results/resources/Siz.AirTerminalSingleDuctConstantVolumeFourPipeInduction.rb\n",
      "Adding File C:/Projects/osw_to_osa/.bundle/install/ruby/2.7.0/gems/openstudio-common-measures-0.7.0/lib/measures/openstudio_results/resources/Siz.AirTerminalSingleDuctConstantVolumeReheat.rb\n",
      "Adding File C:/Projects/osw_to_osa/.bundle/install/ruby/2.7.0/gems/openstudio-common-measures-0.7.0/lib/measures/openstudio_results/resources/Siz.AirTerminalSingleDuctParallelPIUReheat.rb\n",
      "Adding File C:/Projects/osw_to_osa/.bundle/install/ruby/2.7.0/gems/openstudio-common-measures-0.7.0/lib/measures/openstudio_results/resources/Siz.AirTerminalSingleDuctSeriesPIUReheat.rb\n",
      "Adding File C:/Projects/osw_to_osa/.bundle/install/ruby/2.7.0/gems/openstudio-common-measures-0.7.0/lib/measures/openstudio_results/resources/Siz.AirTerminalSingleDuctUncontrolled.rb\n",
      "Adding File C:/Projects/osw_to_osa/.bundle/install/ruby/2.7.0/gems/openstudio-common-measures-0.7.0/lib/measures/openstudio_results/resources/Siz.AirTerminalSingleDuctVAVHeatAndCoolNoReheat.rb\n",
      "Adding File C:/Projects/osw_to_osa/.bundle/install/ruby/2.7.0/gems/openstudio-common-measures-0.7.0/lib/measures/openstudio_results/resources/Siz.AirTerminalSingleDuctVAVHeatAndCoolReheat.rb\n",
      "Adding File C:/Projects/osw_to_osa/.bundle/install/ruby/2.7.0/gems/openstudio-common-measures-0.7.0/lib/measures/openstudio_results/resources/Siz.AirTerminalSingleDuctVAVNoReheat.rb\n",
      "Adding File C:/Projects/osw_to_osa/.bundle/install/ruby/2.7.0/gems/openstudio-common-measures-0.7.0/lib/measures/openstudio_results/resources/Siz.AirTerminalSingleDuctVAVReheat.rb\n",
      "Adding File C:/Projects/osw_to_osa/.bundle/install/ruby/2.7.0/gems/openstudio-common-measures-0.7.0/lib/measures/openstudio_results/resources/Siz.BoilerHotWater.rb\n",
      "Adding File C:/Projects/osw_to_osa/.bundle/install/ruby/2.7.0/gems/openstudio-common-measures-0.7.0/lib/measures/openstudio_results/resources/Siz.BoilerSteam.rb\n",
      "Adding File C:/Projects/osw_to_osa/.bundle/install/ruby/2.7.0/gems/openstudio-common-measures-0.7.0/lib/measures/openstudio_results/resources/Siz.ChillerAbsorption.rb\n",
      "Adding File C:/Projects/osw_to_osa/.bundle/install/ruby/2.7.0/gems/openstudio-common-measures-0.7.0/lib/measures/openstudio_results/resources/Siz.ChillerAbsorptionIndirect.rb\n",
      "Adding File C:/Projects/osw_to_osa/.bundle/install/ruby/2.7.0/gems/openstudio-common-measures-0.7.0/lib/measures/openstudio_results/resources/Siz.ChillerElectricEIR.rb\n",
      "Adding File C:/Projects/osw_to_osa/.bundle/install/ruby/2.7.0/gems/openstudio-common-measures-0.7.0/lib/measures/openstudio_results/resources/Siz.ChillerHeaterPerformanceElectricEIR.rb\n",
      "Adding File C:/Projects/osw_to_osa/.bundle/install/ruby/2.7.0/gems/openstudio-common-measures-0.7.0/lib/measures/openstudio_results/resources/Siz.CoilCoolingDXMultiSpeed.rb\n",
      "Adding File C:/Projects/osw_to_osa/.bundle/install/ruby/2.7.0/gems/openstudio-common-measures-0.7.0/lib/measures/openstudio_results/resources/Siz.CoilCoolingDXMultiSpeedStageData.rb\n",
      "Adding File C:/Projects/osw_to_osa/.bundle/install/ruby/2.7.0/gems/openstudio-common-measures-0.7.0/lib/measures/openstudio_results/resources/Siz.CoilCoolingDXSingleSpeed.rb\n",
      "Adding File C:/Projects/osw_to_osa/.bundle/install/ruby/2.7.0/gems/openstudio-common-measures-0.7.0/lib/measures/openstudio_results/resources/Siz.CoilCoolingDXTwoSpeed.rb\n",
      "Adding File C:/Projects/osw_to_osa/.bundle/install/ruby/2.7.0/gems/openstudio-common-measures-0.7.0/lib/measures/openstudio_results/resources/Siz.CoilCoolingDXTwoStageWithHumidityControlMode.rb\n",
      "Adding File C:/Projects/osw_to_osa/.bundle/install/ruby/2.7.0/gems/openstudio-common-measures-0.7.0/lib/measures/openstudio_results/resources/Siz.CoilCoolingDXVariableRefrigerantFlow.rb\n",
      "Adding File C:/Projects/osw_to_osa/.bundle/install/ruby/2.7.0/gems/openstudio-common-measures-0.7.0/lib/measures/openstudio_results/resources/Siz.CoilCoolingDXVariableSpeed.rb\n",
      "Adding File C:/Projects/osw_to_osa/.bundle/install/ruby/2.7.0/gems/openstudio-common-measures-0.7.0/lib/measures/openstudio_results/resources/Siz.CoilCoolingDXVariableSpeedSpeedData.rb\n",
      "Adding File C:/Projects/osw_to_osa/.bundle/install/ruby/2.7.0/gems/openstudio-common-measures-0.7.0/lib/measures/openstudio_results/resources/Siz.CoilCoolingLowTempRadiantVarFlow.rb\n",
      "Adding File C:/Projects/osw_to_osa/.bundle/install/ruby/2.7.0/gems/openstudio-common-measures-0.7.0/lib/measures/openstudio_results/resources/Siz.CoilCoolingWater.rb\n",
      "Adding File C:/Projects/osw_to_osa/.bundle/install/ruby/2.7.0/gems/openstudio-common-measures-0.7.0/lib/measures/openstudio_results/resources/Siz.CoilCoolingWaterToAirHeatPumpEquationFit.rb\n",
      "Adding File C:/Projects/osw_to_osa/.bundle/install/ruby/2.7.0/gems/openstudio-common-measures-0.7.0/lib/measures/openstudio_results/resources/Siz.CoilCoolingWaterToAirHeatPumpVariableSpeedEquationFit.rb\n",
      "Adding File C:/Projects/osw_to_osa/.bundle/install/ruby/2.7.0/gems/openstudio-common-measures-0.7.0/lib/measures/openstudio_results/resources/Siz.CoilCoolingWaterToAirHeatPumpVariableSpeedEquationFitSpeedData.rb\n",
      "Adding File C:/Projects/osw_to_osa/.bundle/install/ruby/2.7.0/gems/openstudio-common-measures-0.7.0/lib/measures/openstudio_results/resources/Siz.CoilHeatingDesuperheater.rb\n",
      "Adding File C:/Projects/osw_to_osa/.bundle/install/ruby/2.7.0/gems/openstudio-common-measures-0.7.0/lib/measures/openstudio_results/resources/Siz.CoilHeatingDXMultiSpeed.rb\n",
      "Adding File C:/Projects/osw_to_osa/.bundle/install/ruby/2.7.0/gems/openstudio-common-measures-0.7.0/lib/measures/openstudio_results/resources/Siz.CoilHeatingDXMultiSpeedStageData.rb\n",
      "Adding File C:/Projects/osw_to_osa/.bundle/install/ruby/2.7.0/gems/openstudio-common-measures-0.7.0/lib/measures/openstudio_results/resources/Siz.CoilHeatingDXSingleSpeed.rb\n",
      "Adding File C:/Projects/osw_to_osa/.bundle/install/ruby/2.7.0/gems/openstudio-common-measures-0.7.0/lib/measures/openstudio_results/resources/Siz.CoilHeatingDXVariableRefrigerantFlow.rb\n",
      "Adding File C:/Projects/osw_to_osa/.bundle/install/ruby/2.7.0/gems/openstudio-common-measures-0.7.0/lib/measures/openstudio_results/resources/Siz.CoilHeatingDXVariableSpeed.rb\n",
      "Adding File C:/Projects/osw_to_osa/.bundle/install/ruby/2.7.0/gems/openstudio-common-measures-0.7.0/lib/measures/openstudio_results/resources/Siz.CoilHeatingDXVariableSpeedSpeedData.rb\n",
      "Adding File C:/Projects/osw_to_osa/.bundle/install/ruby/2.7.0/gems/openstudio-common-measures-0.7.0/lib/measures/openstudio_results/resources/Siz.CoilHeatingElectric.rb\n",
      "Adding File C:/Projects/osw_to_osa/.bundle/install/ruby/2.7.0/gems/openstudio-common-measures-0.7.0/lib/measures/openstudio_results/resources/Siz.CoilHeatingGas.rb\n",
      "Adding File C:/Projects/osw_to_osa/.bundle/install/ruby/2.7.0/gems/openstudio-common-measures-0.7.0/lib/measures/openstudio_results/resources/Siz.CoilHeatingGasMultiStage.rb\n",
      "Adding File C:/Projects/osw_to_osa/.bundle/install/ruby/2.7.0/gems/openstudio-common-measures-0.7.0/lib/measures/openstudio_results/resources/Siz.CoilHeatingGasMultiStageStageData.rb\n",
      "Adding File C:/Projects/osw_to_osa/.bundle/install/ruby/2.7.0/gems/openstudio-common-measures-0.7.0/lib/measures/openstudio_results/resources/Siz.CoilHeatingLowTempRadiantVarFlow.rb\n",
      "Adding File C:/Projects/osw_to_osa/.bundle/install/ruby/2.7.0/gems/openstudio-common-measures-0.7.0/lib/measures/openstudio_results/resources/Siz.CoilHeatingWater.rb\n",
      "Adding File C:/Projects/osw_to_osa/.bundle/install/ruby/2.7.0/gems/openstudio-common-measures-0.7.0/lib/measures/openstudio_results/resources/Siz.CoilHeatingWaterBaseboard.rb\n",
      "Adding File C:/Projects/osw_to_osa/.bundle/install/ruby/2.7.0/gems/openstudio-common-measures-0.7.0/lib/measures/openstudio_results/resources/Siz.CoilHeatingWaterBaseboardRadiant.rb\n",
      "Adding File C:/Projects/osw_to_osa/.bundle/install/ruby/2.7.0/gems/openstudio-common-measures-0.7.0/lib/measures/openstudio_results/resources/Siz.CoilHeatingWaterToAirHeatPumpEquationFit.rb\n",
      "Adding File C:/Projects/osw_to_osa/.bundle/install/ruby/2.7.0/gems/openstudio-common-measures-0.7.0/lib/measures/openstudio_results/resources/Siz.CoilHeatingWaterToAirHeatPumpVariableSpeedEquationFit.rb\n",
      "Adding File C:/Projects/osw_to_osa/.bundle/install/ruby/2.7.0/gems/openstudio-common-measures-0.7.0/lib/measures/openstudio_results/resources/Siz.CoilHeatingWaterToAirHeatPumpVariableSpeedEquationFitSpeedData.rb\n",
      "Adding File C:/Projects/osw_to_osa/.bundle/install/ruby/2.7.0/gems/openstudio-common-measures-0.7.0/lib/measures/openstudio_results/resources/Siz.CoilPerformanceDXCooling.rb\n",
      "Adding File C:/Projects/osw_to_osa/.bundle/install/ruby/2.7.0/gems/openstudio-common-measures-0.7.0/lib/measures/openstudio_results/resources/Siz.CoilSystemCoolingDXHeatExchangerAssisted.rb\n",
      "Adding File C:/Projects/osw_to_osa/.bundle/install/ruby/2.7.0/gems/openstudio-common-measures-0.7.0/lib/measures/openstudio_results/resources/Siz.CoilSystemCoolingWaterHeatExchangerAssisted.rb\n",
      "Adding File C:/Projects/osw_to_osa/.bundle/install/ruby/2.7.0/gems/openstudio-common-measures-0.7.0/lib/measures/openstudio_results/resources/Siz.CoilWaterHeatingAirToWaterHeatPump.rb\n",
      "Adding File C:/Projects/osw_to_osa/.bundle/install/ruby/2.7.0/gems/openstudio-common-measures-0.7.0/lib/measures/openstudio_results/resources/Siz.CoilWaterHeatingAirToWaterHeatPumpWrapped.rb\n",
      "Adding File C:/Projects/osw_to_osa/.bundle/install/ruby/2.7.0/gems/openstudio-common-measures-0.7.0/lib/measures/openstudio_results/resources/Siz.CoilWaterHeatingDesuperheater.rb\n",
      "Adding File C:/Projects/osw_to_osa/.bundle/install/ruby/2.7.0/gems/openstudio-common-measures-0.7.0/lib/measures/openstudio_results/resources/Siz.ControllerOutdoorAir.rb\n",
      "Adding File C:/Projects/osw_to_osa/.bundle/install/ruby/2.7.0/gems/openstudio-common-measures-0.7.0/lib/measures/openstudio_results/resources/Siz.CoolingTowerSingleSpeed.rb\n",
      "Adding File C:/Projects/osw_to_osa/.bundle/install/ruby/2.7.0/gems/openstudio-common-measures-0.7.0/lib/measures/openstudio_results/resources/Siz.CoolingTowerTwoSpeed.rb\n",
      "Adding File C:/Projects/osw_to_osa/.bundle/install/ruby/2.7.0/gems/openstudio-common-measures-0.7.0/lib/measures/openstudio_results/resources/Siz.CoolingTowerVariableSpeed.rb\n",
      "Adding File C:/Projects/osw_to_osa/.bundle/install/ruby/2.7.0/gems/openstudio-common-measures-0.7.0/lib/measures/openstudio_results/resources/Siz.DistrictCooling.rb\n",
      "Adding File C:/Projects/osw_to_osa/.bundle/install/ruby/2.7.0/gems/openstudio-common-measures-0.7.0/lib/measures/openstudio_results/resources/Siz.DistrictHeating.rb\n",
      "Adding File C:/Projects/osw_to_osa/.bundle/install/ruby/2.7.0/gems/openstudio-common-measures-0.7.0/lib/measures/openstudio_results/resources/Siz.ElectricLoadCenterInverterLookUpTable.rb\n",
      "Adding File C:/Projects/osw_to_osa/.bundle/install/ruby/2.7.0/gems/openstudio-common-measures-0.7.0/lib/measures/openstudio_results/resources/Siz.ElectricLoadCenterInverterSimple.rb\n",
      "Adding File C:/Projects/osw_to_osa/.bundle/install/ruby/2.7.0/gems/openstudio-common-measures-0.7.0/lib/measures/openstudio_results/resources/Siz.ElectricLoadCenterStorageConverter.rb\n",
      "Adding File C:/Projects/osw_to_osa/.bundle/install/ruby/2.7.0/gems/openstudio-common-measures-0.7.0/lib/measures/openstudio_results/resources/Siz.ElectricLoadCenterStorageSimple.rb\n",
      "Adding File C:/Projects/osw_to_osa/.bundle/install/ruby/2.7.0/gems/openstudio-common-measures-0.7.0/lib/measures/openstudio_results/resources/Siz.EvaporativeCoolerDirectResearchSpecial.rb\n",
      "Adding File C:/Projects/osw_to_osa/.bundle/install/ruby/2.7.0/gems/openstudio-common-measures-0.7.0/lib/measures/openstudio_results/resources/Siz.EvaporativeCoolerIndirectResearchSpecial.rb\n",
      "Adding File C:/Projects/osw_to_osa/.bundle/install/ruby/2.7.0/gems/openstudio-common-measures-0.7.0/lib/measures/openstudio_results/resources/Siz.EvaporativeFluidCoolerSingleSpeed.rb\n",
      "Adding File C:/Projects/osw_to_osa/.bundle/install/ruby/2.7.0/gems/openstudio-common-measures-0.7.0/lib/measures/openstudio_results/resources/Siz.EvaporativeFluidCoolerTwoSpeed.rb\n",
      "Adding File C:/Projects/osw_to_osa/.bundle/install/ruby/2.7.0/gems/openstudio-common-measures-0.7.0/lib/measures/openstudio_results/resources/Siz.FanConstantVolume.rb\n",
      "Adding File C:/Projects/osw_to_osa/.bundle/install/ruby/2.7.0/gems/openstudio-common-measures-0.7.0/lib/measures/openstudio_results/resources/Siz.FanOnOff.rb\n",
      "Adding File C:/Projects/osw_to_osa/.bundle/install/ruby/2.7.0/gems/openstudio-common-measures-0.7.0/lib/measures/openstudio_results/resources/Siz.FanVariableVolume.rb\n",
      "Adding File C:/Projects/osw_to_osa/.bundle/install/ruby/2.7.0/gems/openstudio-common-measures-0.7.0/lib/measures/openstudio_results/resources/Siz.FanZoneExhaust.rb\n",
      "Adding File C:/Projects/osw_to_osa/.bundle/install/ruby/2.7.0/gems/openstudio-common-measures-0.7.0/lib/measures/openstudio_results/resources/Siz.FluidCoolerSingleSpeed.rb\n",
      "Adding File C:/Projects/osw_to_osa/.bundle/install/ruby/2.7.0/gems/openstudio-common-measures-0.7.0/lib/measures/openstudio_results/resources/Siz.FluidCoolerTwoSpeed.rb\n",
      "Adding File C:/Projects/osw_to_osa/.bundle/install/ruby/2.7.0/gems/openstudio-common-measures-0.7.0/lib/measures/openstudio_results/resources/Siz.GeneratorFuelCellElectricalStorage.rb\n",
      "Adding File C:/Projects/osw_to_osa/.bundle/install/ruby/2.7.0/gems/openstudio-common-measures-0.7.0/lib/measures/openstudio_results/resources/Siz.GeneratorFuelCellInverter.rb\n",
      "Adding File C:/Projects/osw_to_osa/.bundle/install/ruby/2.7.0/gems/openstudio-common-measures-0.7.0/lib/measures/openstudio_results/resources/Siz.GeneratorFuelCellPowerModule.rb\n",
      "Adding File C:/Projects/osw_to_osa/.bundle/install/ruby/2.7.0/gems/openstudio-common-measures-0.7.0/lib/measures/openstudio_results/resources/Siz.GeneratorMicroTurbine.rb\n",
      "Adding File C:/Projects/osw_to_osa/.bundle/install/ruby/2.7.0/gems/openstudio-common-measures-0.7.0/lib/measures/openstudio_results/resources/Siz.GeneratorMicroTurbineHeatRecovery.rb\n",
      "Adding File C:/Projects/osw_to_osa/.bundle/install/ruby/2.7.0/gems/openstudio-common-measures-0.7.0/lib/measures/openstudio_results/resources/Siz.HeaderedPumpsConstantSpeed.rb\n",
      "Adding File C:/Projects/osw_to_osa/.bundle/install/ruby/2.7.0/gems/openstudio-common-measures-0.7.0/lib/measures/openstudio_results/resources/Siz.HeaderedPumpsVariableSpeed.rb\n",
      "Adding File C:/Projects/osw_to_osa/.bundle/install/ruby/2.7.0/gems/openstudio-common-measures-0.7.0/lib/measures/openstudio_results/resources/Siz.HeatExchangerAirToAirSensibleAndLatent.rb\n",
      "Adding File C:/Projects/osw_to_osa/.bundle/install/ruby/2.7.0/gems/openstudio-common-measures-0.7.0/lib/measures/openstudio_results/resources/Siz.HeatExchangerFluidToFluid.rb\n",
      "Adding File C:/Projects/osw_to_osa/.bundle/install/ruby/2.7.0/gems/openstudio-common-measures-0.7.0/lib/measures/openstudio_results/resources/Siz.HeatPumpWaterToWaterEquationFitCooling.rb\n",
      "Adding File C:/Projects/osw_to_osa/.bundle/install/ruby/2.7.0/gems/openstudio-common-measures-0.7.0/lib/measures/openstudio_results/resources/Siz.HeatPumpWaterToWaterEquationFitHeating.rb\n",
      "Adding File C:/Projects/osw_to_osa/.bundle/install/ruby/2.7.0/gems/openstudio-common-measures-0.7.0/lib/measures/openstudio_results/resources/Siz.HumidifierSteamElectric.rb\n",
      "Adding File C:/Projects/osw_to_osa/.bundle/install/ruby/2.7.0/gems/openstudio-common-measures-0.7.0/lib/measures/openstudio_results/resources/Siz.HVACComponent.rb\n",
      "Adding File C:/Projects/osw_to_osa/.bundle/install/ruby/2.7.0/gems/openstudio-common-measures-0.7.0/lib/measures/openstudio_results/resources/Siz.Model.rb\n",
      "Adding File C:/Projects/osw_to_osa/.bundle/install/ruby/2.7.0/gems/openstudio-common-measures-0.7.0/lib/measures/openstudio_results/resources/Siz.ModelObject.rb\n",
      "Adding File C:/Projects/osw_to_osa/.bundle/install/ruby/2.7.0/gems/openstudio-common-measures-0.7.0/lib/measures/openstudio_results/resources/Siz.PhotovoltaicPerformanceSimple.rb\n",
      "Adding File C:/Projects/osw_to_osa/.bundle/install/ruby/2.7.0/gems/openstudio-common-measures-0.7.0/lib/measures/openstudio_results/resources/Siz.PlantComponentTemperatureSource.rb\n",
      "Adding File C:/Projects/osw_to_osa/.bundle/install/ruby/2.7.0/gems/openstudio-common-measures-0.7.0/lib/measures/openstudio_results/resources/Siz.PlantLoop.rb\n",
      "Adding File C:/Projects/osw_to_osa/.bundle/install/ruby/2.7.0/gems/openstudio-common-measures-0.7.0/lib/measures/openstudio_results/resources/Siz.PumpConstantSpeed.rb\n",
      "Adding File C:/Projects/osw_to_osa/.bundle/install/ruby/2.7.0/gems/openstudio-common-measures-0.7.0/lib/measures/openstudio_results/resources/Siz.PumpVariableSpeed.rb\n",
      "Adding File C:/Projects/osw_to_osa/.bundle/install/ruby/2.7.0/gems/openstudio-common-measures-0.7.0/lib/measures/openstudio_results/resources/Siz.RefrigerationSecondarySystem.rb\n",
      "Adding File C:/Projects/osw_to_osa/.bundle/install/ruby/2.7.0/gems/openstudio-common-measures-0.7.0/lib/measures/openstudio_results/resources/Siz.RefrigerationSystem.rb\n",
      "Adding File C:/Projects/osw_to_osa/.bundle/install/ruby/2.7.0/gems/openstudio-common-measures-0.7.0/lib/measures/openstudio_results/resources/Siz.RefrigerationTranscriticalSystem.rb\n",
      "Adding File C:/Projects/osw_to_osa/.bundle/install/ruby/2.7.0/gems/openstudio-common-measures-0.7.0/lib/measures/openstudio_results/resources/Siz.SizingSystem.rb\n",
      "Adding File C:/Projects/osw_to_osa/.bundle/install/ruby/2.7.0/gems/openstudio-common-measures-0.7.0/lib/measures/openstudio_results/resources/Siz.SolarCollectorFlatPlatePhotovoltaicThermal.rb\n",
      "Adding File C:/Projects/osw_to_osa/.bundle/install/ruby/2.7.0/gems/openstudio-common-measures-0.7.0/lib/measures/openstudio_results/resources/Siz.SolarCollectorPerformancePhotovoltaicThermalSimple.rb\n",
      "Adding File C:/Projects/osw_to_osa/.bundle/install/ruby/2.7.0/gems/openstudio-common-measures-0.7.0/lib/measures/openstudio_results/resources/Siz.ThermalStorageChilledWaterStratified.rb\n",
      "Adding File C:/Projects/osw_to_osa/.bundle/install/ruby/2.7.0/gems/openstudio-common-measures-0.7.0/lib/measures/openstudio_results/resources/Siz.WaterHeaterHeatPump.rb\n",
      "Adding File C:/Projects/osw_to_osa/.bundle/install/ruby/2.7.0/gems/openstudio-common-measures-0.7.0/lib/measures/openstudio_results/resources/Siz.WaterHeaterHeatPumpWrappedCondenser.rb\n",
      "Adding File C:/Projects/osw_to_osa/.bundle/install/ruby/2.7.0/gems/openstudio-common-measures-0.7.0/lib/measures/openstudio_results/resources/Siz.WaterHeaterMixed.rb\n",
      "Adding File C:/Projects/osw_to_osa/.bundle/install/ruby/2.7.0/gems/openstudio-common-measures-0.7.0/lib/measures/openstudio_results/resources/Siz.WaterHeaterStratified.rb\n",
      "Adding File C:/Projects/osw_to_osa/.bundle/install/ruby/2.7.0/gems/openstudio-common-measures-0.7.0/lib/measures/openstudio_results/resources/Siz.ZoneHVACBaseboardConvectiveElectric.rb\n",
      "Adding File C:/Projects/osw_to_osa/.bundle/install/ruby/2.7.0/gems/openstudio-common-measures-0.7.0/lib/measures/openstudio_results/resources/Siz.ZoneHVACBaseboardConvectiveWater.rb\n",
      "Adding File C:/Projects/osw_to_osa/.bundle/install/ruby/2.7.0/gems/openstudio-common-measures-0.7.0/lib/measures/openstudio_results/resources/Siz.ZoneHVACBaseboardRadiantConvectiveElectric.rb\n",
      "Adding File C:/Projects/osw_to_osa/.bundle/install/ruby/2.7.0/gems/openstudio-common-measures-0.7.0/lib/measures/openstudio_results/resources/Siz.ZoneHVACBaseboardRadiantConvectiveWater.rb\n",
      "Adding File C:/Projects/osw_to_osa/.bundle/install/ruby/2.7.0/gems/openstudio-common-measures-0.7.0/lib/measures/openstudio_results/resources/Siz.ZoneHVACEnergyRecoveryVentilator.rb\n",
      "Adding File C:/Projects/osw_to_osa/.bundle/install/ruby/2.7.0/gems/openstudio-common-measures-0.7.0/lib/measures/openstudio_results/resources/Siz.ZoneHVACFourPipeFanCoil.rb\n",
      "Adding File C:/Projects/osw_to_osa/.bundle/install/ruby/2.7.0/gems/openstudio-common-measures-0.7.0/lib/measures/openstudio_results/resources/Siz.ZoneHVACHighTemperatureRadiant.rb\n",
      "Adding File C:/Projects/osw_to_osa/.bundle/install/ruby/2.7.0/gems/openstudio-common-measures-0.7.0/lib/measures/openstudio_results/resources/Siz.ZoneHVACIdealLoadsAirSystem.rb\n",
      "Adding File C:/Projects/osw_to_osa/.bundle/install/ruby/2.7.0/gems/openstudio-common-measures-0.7.0/lib/measures/openstudio_results/resources/Siz.ZoneHVACLowTempRadiantConstFlow.rb\n",
      "Adding File C:/Projects/osw_to_osa/.bundle/install/ruby/2.7.0/gems/openstudio-common-measures-0.7.0/lib/measures/openstudio_results/resources/Siz.ZoneHVACLowTempRadiantVarFlow.rb\n",
      "Adding File C:/Projects/osw_to_osa/.bundle/install/ruby/2.7.0/gems/openstudio-common-measures-0.7.0/lib/measures/openstudio_results/resources/Siz.ZoneHVACPackagedTerminalAirConditioner.rb\n",
      "Adding File C:/Projects/osw_to_osa/.bundle/install/ruby/2.7.0/gems/openstudio-common-measures-0.7.0/lib/measures/openstudio_results/resources/Siz.ZoneHVACPackagedTerminalHeatPump.rb\n",
      "Adding File C:/Projects/osw_to_osa/.bundle/install/ruby/2.7.0/gems/openstudio-common-measures-0.7.0/lib/measures/openstudio_results/resources/Siz.ZoneHVACTerminalUnitVariableRefrigerantFlow.rb\n",
      "Adding File C:/Projects/osw_to_osa/.bundle/install/ruby/2.7.0/gems/openstudio-common-measures-0.7.0/lib/measures/openstudio_results/resources/Siz.ZoneHVACUnitHeater.rb\n",
      "Adding File C:/Projects/osw_to_osa/.bundle/install/ruby/2.7.0/gems/openstudio-common-measures-0.7.0/lib/measures/openstudio_results/resources/Siz.ZoneHVACUnitVentilator.rb\n",
      "Adding File C:/Projects/osw_to_osa/.bundle/install/ruby/2.7.0/gems/openstudio-common-measures-0.7.0/lib/measures/openstudio_results/resources/Siz.ZoneHVACWaterToAirHeatPump.rb\n",
      "Adding File C:/Projects/osw_to_osa/.bundle/install/ruby/2.7.0/gems/openstudio-common-measures-0.7.0/lib/measures/openstudio_results/resources/Siz.ZoneVentilationDesignFlowRate.rb\n"
     ]
    },
    {
     "data": {
      "text/plain": [
       "[#<OpenStudio::Analysis::WorkflowStep:0x000000000c57cb58 @name=\"replace_model\", @display_name=\"Replace OpenStudio Model\", @type=\"ModelMeasure\", @measure_definition_class_name=\"ReplaceModel\", @measure_definition_directory=\"./measures/ReplaceModel\", @measure_definition_directory_local=\"C:/Projects/osw_to_osa/measures/ReplaceModel\", @measure_definition_display_name=\"Replace OpenStudio Model\", @measure_definition_name=\"replace_model\", @measure_definition_name_xml=nil, @measure_definition_uuid=\"54f03343-5b5c-42f4-818c-5e6de6ded489\", @measure_definition_version_uuid=\"3d5a8c1a-2085-4cc6-9b16-8ac8317cf1e2\", @uuid=\"54f03343-5b5c-42f4-818c-5e6de6ded489\", @version_uuid=\"3d5a8c1a-2085-4cc6-9b16-8ac8317cf1e2\", @description=nil, @arguments=[{:display_name=>\"Skip Entire Measure\", :display_name_short=>\"Skip\", :name=>\"__SKIP__\", :value_type=>\"boolean\", :default_value=>false, :value=>false}, {:display_name=>\"External OSM File Name\", :display_name_short=>\"External OSM File Name\", :name=>\"external_model_name\", :value_type=>\"string\", :default_value=>nil, :value=>\"../../../lib/seeds/geo_stub_space_types.osm\"}], @variables=[]>, #<OpenStudio::Analysis::WorkflowStep:0x00000000099ada90 @name=\"change_building_location\", @display_name=\"ChangeBuildingLocation\", @type=\"ModelMeasure\", @measure_definition_class_name=\"ChangeBuildingLocation\", @measure_definition_directory=\"./measures/ChangeBuildingLocation\", @measure_definition_directory_local=\"C:/Projects/osw_to_osa/.bundle/install/ruby/2.7.0/gems/openstudio-common-measures-0.7.0/lib/measures/ChangeBuildingLocation\", @measure_definition_display_name=\"ChangeBuildingLocation\", @measure_definition_name=\"change_building_location\", @measure_definition_name_xml=nil, @measure_definition_uuid=\"d4db4971-f5ba-11e3-a3ac-0800200c9a66\", @measure_definition_version_uuid=\"946ae086-8c8e-4aa7-9d53-f482ba39d7a5\", @uuid=\"d4db4971-f5ba-11e3-a3ac-0800200c9a66\", @version_uuid=\"946ae086-8c8e-4aa7-9d53-f482ba39d7a5\", @description=\"Change the building location\", @arguments=[{:display_name=>\"Skip Entire Measure\", :display_name_short=>\"Skip\", :name=>\"__SKIP__\", :value_type=>\"boolean\", :default_value=>false, :value=>false}, {:display_name=>\"Weather File Name\", :display_name_short=>\"Weather File Name\", :name=>\"weather_file_name\", :value_type=>\"string\", :default_value=>nil, :value=>\"USA_IL_Chicago-OHare.Intl.AP.725300_TMY3.epw\"}, {:display_name=>\"Climate Zone.\", :display_name_short=>\"Climate Zone.\", :name=>\"climate_zone\", :value_type=>\"string\", :default_value=>\"Lookup From Stat File\", :value=>\"Lookup From Stat File\"}, {:display_name=>\"Set Calendar Year\", :display_name_short=>\"Set Calendar Year\", :name=>\"set_year\", :value_type=>\"integer\", :default_value=>0, :value=>\"2019\"}, {:display_name=>\"Use Upstream Argument Values\", :display_name_short=>\"Use Upstream Argument Values\", :name=>\"use_upstream_args\", :value_type=>\"boolean\", :default_value=>true, :value=>true}, {:display_name=>\"Find and replace option from existing weather file name.\", :display_name_short=>\"Find and replace option from existing weather file name.\", :name=>\"epw_gsub\", :value_type=>\"string\", :default_value=>\"Do Nothing\", :value=>\"Do Nothing\"}], @variables=[]>, #<OpenStudio::Analysis::WorkflowStep:0x000000000cc1e880 @name=\"create_typical_doe_building_from_model\", @display_name=\"Create Typical DOE Building from Model\", @type=\"ModelMeasure\", @measure_definition_class_name=\"CreateTypicalDOEBuildingFromModel\", @measure_definition_directory=\"./measures/create_typical_doe_building_from_model\", @measure_definition_directory_local=\"C:/Projects/osw_to_osa/.bundle/install/ruby/2.7.0/gems/openstudio-model-articulation-0.7.0/lib/measures/create_typical_doe_building_from_model\", @measure_definition_display_name=\"Create Typical DOE Building from Model\", @measure_definition_name=\"create_typical_doe_building_from_model\", @measure_definition_name_xml=nil, @measure_definition_uuid=\"b2c80210-33b3-4dfd-8267-535efd81f552\", @measure_definition_version_uuid=\"bd01bf11-d315-49ed-8c05-3ce269edbc1f\", @uuid=\"b2c80210-33b3-4dfd-8267-535efd81f552\", @version_uuid=\"bd01bf11-d315-49ed-8c05-3ce269edbc1f\", @description=\"Takes a model with space and stub space types, and assigns constructions, schedules, internal loads, hvac, and other loads such as exterior lights and service water heating.\", @arguments=[{:display_name=>\"Skip Entire Measure\", :display_name_short=>\"Skip\", :name=>\"__SKIP__\", :value_type=>\"boolean\", :default_value=>false, :value=>false}, {:display_name=>\"Target Standard\", :display_name_short=>\"Target Standard\", :name=>\"template\", :value_type=>\"string\", :default_value=>\"90.1-2010\", :value=>\"90.1-2010\"}, {:display_name=>\"HVAC System Type\", :display_name_short=>\"HVAC System Type\", :name=>\"system_type\", :value_type=>\"string\", :default_value=>\"Inferred\", :value=>\"Inferred\"}, {:display_name=>\"HVAC System Delivery Type\", :display_name_short=>\"HVAC System Delivery Type\", :name=>\"hvac_delivery_type\", :value_type=>\"string\", :default_value=>\"Forced Air\", :value=>\"Forced Air\"}, {:display_name=>\"HVAC Heating Source\", :display_name_short=>\"HVAC Heating Source\", :name=>\"htg_src\", :value_type=>\"string\", :default_value=>\"NaturalGas\", :value=>\"NaturalGas\"}, {:display_name=>\"HVAC Cooling Source\", :display_name_short=>\"HVAC Cooling Source\", :name=>\"clg_src\", :value_type=>\"string\", :default_value=>\"Electricity\", :value=>\"Electricity\"}, {:display_name=>\"Service Water Heating Source\", :display_name_short=>\"Service Water Heating Source\", :name=>\"swh_src\", :value_type=>\"string\", :default_value=>\"Inferred\", :value=>\"Inferred\"}, {:display_name=>\"Kitchen Exhaust MakeUp Air Calculation Method\", :display_name_short=>\"Kitchen Exhaust MakeUp Air Calculation Method\", :name=>\"kitchen_makeup\", :value_type=>\"string\", :default_value=>\"Adjacent\", :value=>\"Adjacent\"}, {:display_name=>\"Exterior Lighting Zone\", :display_name_short=>\"Exterior Lighting Zone\", :name=>\"exterior_lighting_zone\", :value_type=>\"string\", :default_value=>\"3 - All Other Areas\", :value=>\"3 - All Other Areas\"}, {:display_name=>\"Add Constructions to Model\", :display_name_short=>\"Add Constructions to Model\", :name=>\"add_constructions\", :value_type=>\"boolean\", :default_value=>true, :value=>true}, {:display_name=>\"Add Space Type Loads to Model\", :display_name_short=>\"Add Space Type Loads to Model\", :name=>\"add_space_type_loads\", :value_type=>\"boolean\", :default_value=>true, :value=>true}, {:display_name=>\"Add Elevators to Model\", :display_name_short=>\"Add Elevators to Model\", :name=>\"add_elevators\", :value_type=>\"boolean\", :default_value=>true, :value=>true}, {:display_name=>\"Add Internal Mass to Model\", :display_name_short=>\"Add Internal Mass to Model\", :name=>\"add_internal_mass\", :value_type=>\"boolean\", :default_value=>true, :value=>true}, {:display_name=>\"Add Exterior Lights to Model\", :display_name_short=>\"Add Exterior Lights to Model\", :name=>\"add_exterior_lights\", :value_type=>\"boolean\", :default_value=>true, :value=>true}, {:display_name=>\"Onsite Parking Fraction\", :display_name_short=>\"Onsite Parking Fraction\", :name=>\"onsite_parking_fraction\", :value_type=>\"double\", :default_value=>1.0, :value=>1.0}, {:display_name=>\"Add Exhaust Fans to Model\", :display_name_short=>\"Add Exhaust Fans to Model\", :name=>\"add_exhaust\", :value_type=>\"boolean\", :default_value=>true, :value=>true}, {:display_name=>\"Add Service Water Heating to Model\", :display_name_short=>\"Add Service Water Heating to Model\", :name=>\"add_swh\", :value_type=>\"boolean\", :default_value=>true, :value=>true}, {:display_name=>\"Add Thermostats\", :display_name_short=>\"Add Thermostats\", :name=>\"add_thermostat\", :value_type=>\"boolean\", :default_value=>true, :value=>true}, {:display_name=>\"Add HVAC System to Model\", :display_name_short=>\"Add HVAC System to Model\", :name=>\"add_hvac\", :value_type=>\"boolean\", :default_value=>true, :value=>true}, {:display_name=>\"Add Refrigeration to Model\", :display_name_short=>\"Add Refrigeration to Model\", :name=>\"add_refrigeration\", :value_type=>\"boolean\", :default_value=>true, :value=>true}, {:display_name=>\"Modify weekday hours of operation\", :display_name_short=>\"Modify weekday hours of operation\", :name=>\"modify_wkdy_op_hrs\", :value_type=>\"boolean\", :default_value=>false, :value=>false}, {:display_name=>\"Weekday Operating Hours Start Time\", :display_name_short=>\"Weekday Operating Hours Start Time\", :name=>\"wkdy_op_hrs_start_time\", :value_type=>\"double\", :default_value=>8.0, :value=>8.0}, {:display_name=>\"Weekday Operating Hours Duration\", :display_name_short=>\"Weekday Operating Hours Duration\", :name=>\"wkdy_op_hrs_duration\", :value_type=>\"double\", :default_value=>8.0, :value=>8.0}, {:display_name=>\"Modify weekend hours of operation\", :display_name_short=>\"Modify weekend hours of operation\", :name=>\"modify_wknd_op_hrs\", :value_type=>\"boolean\", :default_value=>false, :value=>false}, {:display_name=>\"Weekend Operating Hours Start Time\", :display_name_short=>\"Weekend Operating Hours Start Time\", :name=>\"wknd_op_hrs_start_time\", :value_type=>\"double\", :default_value=>8.0, :value=>8.0}, {:display_name=>\"Weekend Operating Hours Duration\", :display_name_short=>\"Weekend Operating Hours Duration\", :name=>\"wknd_op_hrs_duration\", :value_type=>\"double\", :default_value=>8.0, :value=>8.0}, {:display_name=>\"Unmet Hours Tolerance\", :display_name_short=>\"Unmet Hours Tolerance\", :name=>\"unmet_hours_tolerance\", :value_type=>\"double\", :default_value=>1.0, :value=>1.0}, {:display_name=>\"Clean Model of non-geometry objects\", :display_name_short=>\"Clean Model of non-geometry objects\", :name=>\"remove_objects\", :value_type=>\"boolean\", :default_value=>true, :value=>true}, {:display_name=>\"Use Upstream Argument Values\", :display_name_short=>\"Use Upstream Argument Values\", :name=>\"use_upstream_args\", :value_type=>\"boolean\", :default_value=>true, :value=>true}, {:display_name=>\"Enable Daylight Savings\", :display_name_short=>\"Enable Daylight Savings\", :name=>\"enable_dst\", :value_type=>\"boolean\", :default_value=>true, :value=>true}], @variables=[]>, #<OpenStudio::Analysis::WorkflowStep:0x000000000bfd1230 @name=\"view_model\", @display_name=\"ViewModel\", @type=\"ModelMeasure\", @measure_definition_class_name=\"ViewModel\", @measure_definition_directory=\"./measures/view_model\", @measure_definition_directory_local=\"C:/Projects/osw_to_osa/.bundle/install/ruby/2.7.0/gems/openstudio-common-measures-0.7.0/lib/measures/view_model\", @measure_definition_display_name=\"ViewModel\", @measure_definition_name=\"view_model\", @measure_definition_name_xml=nil, @measure_definition_uuid=\"f4669f10-fda5-489d-8e1c-7ca3c2d40378\", @measure_definition_version_uuid=\"268f85e6-f86a-480c-b7dd-c75920b3c922\", @uuid=\"f4669f10-fda5-489d-8e1c-7ca3c2d40378\", @version_uuid=\"268f85e6-f86a-480c-b7dd-c75920b3c922\", @description=\"Visualize an OpenStudio model in a web based viewer\", @arguments=[{:display_name=>\"Skip Entire Measure\", :display_name_short=>\"Skip\", :name=>\"__SKIP__\", :value_type=>\"boolean\", :default_value=>false, :value=>false}], @variables=[]>, #<OpenStudio::Analysis::WorkflowStep:0x000000000cb65128 @name=\"add_rooftop_pv\", @display_name=\"Add Rooftop PV\", @type=\"ModelMeasure\", @measure_definition_class_name=\"AddRooftopPV\", @measure_definition_directory=\"./measures/add_rooftop_pv\", @measure_definition_directory_local=\"C:/Projects/osw_to_osa/.bundle/install/ruby/2.7.0/gems/openstudio-common-measures-0.7.0/lib/measures/add_rooftop_pv\", @measure_definition_display_name=\"Add Rooftop PV\", @measure_definition_name=\"add_rooftop_pv\", @measure_definition_name_xml=nil, @measure_definition_uuid=\"34550614-0c87-44db-9252-0ca0915b1e64\", @measure_definition_version_uuid=\"645e4fbe-c829-4de2-adc5-3181f2db13ea\", @uuid=\"34550614-0c87-44db-9252-0ca0915b1e64\", @version_uuid=\"645e4fbe-c829-4de2-adc5-3181f2db13ea\", @description=\"This measure will create new shading surface geometry above the roof for each thermal zone inyour model where the surface azmith falls within the user specified range. Arguments are exposed for panel efficiency, inverter efficiency, and the fraction of each roof surface that has PV.\", @arguments=[{:display_name=>\"Skip Entire Measure\", :display_name_short=>\"Skip\", :name=>\"__SKIP__\", :value_type=>\"boolean\", :default_value=>false, :value=>false}, {:display_name=>\"Fraction of Surface Area with Active Solar Cells\", :display_name_short=>\"Fraction of Surface Area with Active Solar Cells\", :name=>\"fraction_of_surface\", :value_type=>\"double\", :default_value=>0.75, :value=>\"0.75\"}, {:display_name=>\"Cell Efficiency\", :display_name_short=>\"Cell Efficiency\", :name=>\"cell_efficiency\", :value_type=>\"double\", :default_value=>0.18, :value=>\"0.1976\"}, {:display_name=>\"Inverter Efficiency\", :display_name_short=>\"Inverter Efficiency\", :name=>\"inverter_efficiency\", :value_type=>\"double\", :default_value=>0.98, :value=>\"0.96\"}], @variables=[]>, #<OpenStudio::Analysis::WorkflowStep:0x000000000bb43d80 @name=\"envelope_and_internal_load_breakdown\", @display_name=\"Envelope and Internal Load Breakdown\", @type=\"ReportingMeasure\", @measure_definition_class_name=\"EnvelopeAndInternalLoadBreakdown\", @measure_definition_directory=\"./measures/envelope_and_internal_load_breakdown\", @measure_definition_directory_local=\"C:/Projects/osw_to_osa/.bundle/install/ruby/2.7.0/gems/openstudio-common-measures-0.7.0/lib/measures/envelope_and_internal_load_breakdown\", @measure_definition_display_name=\"Envelope and Internal Load Breakdown\", @measure_definition_name=\"envelope_and_internal_load_breakdown\", @measure_definition_name_xml=nil, @measure_definition_uuid=\"8f0e1fbb-8bc6-46e5-b6e4-db59177e2c02\", @measure_definition_version_uuid=\"094a25e3-d116-401e-8cdb-ae076a79079a\", @uuid=\"8f0e1fbb-8bc6-46e5-b6e4-db59177e2c02\", @version_uuid=\"094a25e3-d116-401e-8cdb-ae076a79079a\", @description=\"Report provides annual and monthly views into heat gains and losses for envelope and internal loads.\", @arguments=[{:display_name=>\"Skip Entire Measure\", :display_name_short=>\"Skip\", :name=>\"__SKIP__\", :value_type=>\"boolean\", :default_value=>false, :value=>false}], @variables=[]>, #<OpenStudio::Analysis::WorkflowStep:0x000000000d8f4758 @name=\"openstudio_results\", @display_name=\"OpenStudio Results\", @type=\"ReportingMeasure\", @measure_definition_class_name=\"OpenStudioResults\", @measure_definition_directory=\"./measures/openstudio_results\", @measure_definition_directory_local=\"C:/Projects/osw_to_osa/.bundle/install/ruby/2.7.0/gems/openstudio-common-measures-0.7.0/lib/measures/openstudio_results\", @measure_definition_display_name=\"OpenStudio Results\", @measure_definition_name=\"openstudio_results\", @measure_definition_name_xml=nil, @measure_definition_uuid=\"a25386cd-60e4-46bc-8b11-c755f379d916\", @measure_definition_version_uuid=\"6b37673b-b0d8-4ab4-8f5a-0a48f170b4e8\", @uuid=\"a25386cd-60e4-46bc-8b11-c755f379d916\", @version_uuid=\"6b37673b-b0d8-4ab4-8f5a-0a48f170b4e8\", @description=\"This measure creates high level tables and charts pulling both from model inputs and EnergyPlus results. It has building level information as well as detail on space types, thermal zones, HVAC systems, envelope characteristics, and economics. Click the heading above a chart to view a table of the chart data.\", @arguments=[{:display_name=>\"Skip Entire Measure\", :display_name_short=>\"Skip\", :name=>\"__SKIP__\", :value_type=>\"boolean\", :default_value=>false, :value=>false}, {:display_name=>\"Which Unit System do you want to use?\", :display_name_short=>\"Which Unit System do you want to use?\", :name=>\"units\", :value_type=>\"string\", :default_value=>\"IP\", :value=>\"IP\"}, {:display_name=>\"Model Summary\", :display_name_short=>\"Model Summary\", :name=>\"building_summary_section\", :value_type=>\"boolean\", :default_value=>true, :value=>true}, {:display_name=>\"Annual Overview\", :display_name_short=>\"Annual Overview\", :name=>\"annual_overview_section\", :value_type=>\"boolean\", :default_value=>true, :value=>true}, {:display_name=>\"Monthly Overview\", :display_name_short=>\"Monthly Overview\", :name=>\"monthly_overview_section\", :value_type=>\"boolean\", :default_value=>true, :value=>true}, {:display_name=>\"Utility Bills/Rates\", :display_name_short=>\"Utility Bills/Rates\", :name=>\"utility_bills_rates_section\", :value_type=>\"boolean\", :default_value=>true, :value=>true}, {:display_name=>\"Envelope Summary\", :display_name_short=>\"Envelope Summary\", :name=>\"envelope_section_section\", :value_type=>\"boolean\", :default_value=>true, :value=>true}, {:display_name=>\"Space Type Breakdown\", :display_name_short=>\"Space Type Breakdown\", :name=>\"space_type_breakdown_section\", :value_type=>\"boolean\", :default_value=>true, :value=>true}, {:display_name=>\"Space Type Summary\", :display_name_short=>\"Space Type Summary\", :name=>\"space_type_details_section\", :value_type=>\"boolean\", :default_value=>true, :value=>true}, {:display_name=>\"Interior Lighting Summary\", :display_name_short=>\"Interior Lighting Summary\", :name=>\"interior_lighting_section\", :value_type=>\"boolean\", :default_value=>true, :value=>true}, {:display_name=>\"Plug Loads Summary\", :display_name_short=>\"Plug Loads Summary\", :name=>\"plug_loads_section\", :value_type=>\"boolean\", :default_value=>true, :value=>true}, {:display_name=>\"Exterior Lighting\", :display_name_short=>\"Exterior Lighting\", :name=>\"exterior_light_section\", :value_type=>\"boolean\", :default_value=>true, :value=>true}, {:display_name=>\"Water Use Equipment\", :display_name_short=>\"Water Use Equipment\", :name=>\"water_use_section\", :value_type=>\"boolean\", :default_value=>true, :value=>true}, {:display_name=>\"HVAC Load Profiles\", :display_name_short=>\"HVAC Load Profiles\", :name=>\"hvac_load_profile\", :value_type=>\"boolean\", :default_value=>true, :value=>true}, {:display_name=>\"Zone Conditions\", :display_name_short=>\"Zone Conditions\", :name=>\"zone_condition_section\", :value_type=>\"boolean\", :default_value=>true, :value=>false}, {:display_name=>\"Zone Overview\", :display_name_short=>\"Zone Overview\", :name=>\"zone_summary_section\", :value_type=>\"boolean\", :default_value=>true, :value=>true}, {:display_name=>\"Zone Equipment Detail\", :display_name_short=>\"Zone Equipment Detail\", :name=>\"zone_equipment_detail_section\", :value_type=>\"boolean\", :default_value=>true, :value=>true}, {:display_name=>\"Air Loops Detail\", :display_name_short=>\"Air Loops Detail\", :name=>\"air_loops_detail_section\", :value_type=>\"boolean\", :default_value=>true, :value=>true}, {:display_name=>\"Plant Loops Detail\", :display_name_short=>\"Plant Loops Detail\", :name=>\"plant_loops_detail_section\", :value_type=>\"boolean\", :default_value=>true, :value=>true}, {:display_name=>\"Outdoor Air\", :display_name_short=>\"Outdoor Air\", :name=>\"outdoor_air_section\", :value_type=>\"boolean\", :default_value=>true, :value=>true}, {:display_name=>\"Cash Flow\", :display_name_short=>\"Cash Flow\", :name=>\"cost_summary_section\", :value_type=>\"boolean\", :default_value=>true, :value=>true}, {:display_name=>\"Site and Source Summary\", :display_name_short=>\"Site and Source Summary\", :name=>\"source_energy_section\", :value_type=>\"boolean\", :default_value=>true, :value=>true}, {:display_name=>\"Schedule Overview\", :display_name_short=>\"Schedule Overview\", :name=>\"schedules_overview_section\", :value_type=>\"boolean\", :default_value=>true, :value=>true}, {:display_name=>\"Measure Warnings\", :display_name_short=>\"Measure Warnings\", :name=>\"measure_warning_section\", :value_type=>\"boolean\", :default_value=>true, :value=>true}, {:display_name=>\"Report monthly fuel and enduse breakdown to registerValue\", :display_name_short=>\"Report monthly fuel and enduse breakdown to registerValue\", :name=>\"reg_monthly_details\", :value_type=>\"boolean\", :default_value=>false, :value=>false}], @variables=[]>]"
      ]
     },
     "execution_count": 12,
     "metadata": {},
     "output_type": "execute_result"
    }
   ],
   "source": [
    "analysis.save_osa_zip('analysis.zip')"
   ]
  },
  {
   "cell_type": "code",
   "execution_count": 13,
   "id": "0a5f96f6-32fc-4257-9542-849a72d9a080",
   "metadata": {},
   "outputs": [
    {
     "name": "stdout",
     "output_type": "stream",
     "text": [
      "Command executed successfully\n",
      "3.5.0+7b14ce1588\n"
     ]
    }
   ],
   "source": [
    "require 'open3'\n",
    "\n",
    "#get path to OpenStudio CLI\n",
    "cli = OpenStudio.getOpenStudioCLI.to_s\n",
    "\n",
    "# Make a system call to get version\n",
    "stdout, stderr, status = Open3.capture3(\"#{cli} --version\")\n",
    "\n",
    "# Check the result\n",
    "if status.success?\n",
    "  puts \"Command executed successfully\"\n",
    "  puts stdout\n",
    "else\n",
    "  puts \"Command failed\"\n",
    "  puts stderr\n",
    "end"
   ]
  },
  {
   "cell_type": "code",
   "execution_count": 14,
   "id": "a55623e6-de71-4fb9-a7c2-67802593115c",
   "metadata": {},
   "outputs": [],
   "source": [
    "#Run the workflow\n",
    "#stdout, stderr, status = Open3.capture3(\"#{cli} run --debug --workflow in.osw\")\n",
    "#status"
   ]
  },
  {
   "cell_type": "code",
   "execution_count": 15,
   "id": "e1b88747-f3a6-4cd3-8d06-3bef363eae98",
   "metadata": {},
   "outputs": [
    {
     "data": {
      "text/plain": [
       "\"C:\\\\ParametricAnalysisTool-3.3.0\\\\pat\\\\ruby\\\\bin\\\\ruby\""
      ]
     },
     "execution_count": 15,
     "metadata": {},
     "output_type": "execute_result"
    }
   ],
   "source": [
    "#RUBY_CMD = 'ruby'\n",
    "RUBY_CMD = 'C:\\ParametricAnalysisTool-3.3.0\\pat\\ruby\\bin\\ruby'\n",
    "#META_CLI = File.absolute_path('/opt/OpenStudio-server/bin/openstudio_meta')\n",
    "META_CLI = File.absolute_path('C:\\ParametricAnalysisTool-3.3.0\\pat\\OpenStudio-server\\bin\\openstudio_meta')\n",
    "PROJECT = Dir.pwd\n",
    "#HOST = '192.168.65.3'\n",
    "HOST = 'localhost'\n",
    "\n",
    "@host = HOST\n",
    "@project = PROJECT\n",
    "@meta_cli = META_CLI\n",
    "@ruby_cmd = RUBY_CMD"
   ]
  },
  {
   "cell_type": "code",
   "execution_count": 16,
   "id": "972966b8-9d96-46e9-b9f1-e000566fcc6e",
   "metadata": {},
   "outputs": [
    {
     "data": {
      "text/plain": [
       "\"C:\\\\ParametricAnalysisTool-3.3.0\\\\pat\\\\ruby\\\\bin\\\\ruby C:/ParametricAnalysisTool-3.3.0/pat/OpenStudio-server/bin/openstudio_meta run_analysis 'C:/Projects/osw_to_osa/workflows/osm_typical/analysis.json' 'http://localhost' -z 'analysis' -a single_run\""
      ]
     },
     "execution_count": 16,
     "metadata": {},
     "output_type": "execute_result"
    }
   ],
   "source": [
    "command = \"#{@ruby_cmd} #{@meta_cli} run_analysis '#{@project}/analysis.json' 'http://#{@host}' -z 'analysis' -a single_run\""
   ]
  },
  {
   "cell_type": "code",
   "execution_count": 17,
   "id": "f5bf8d2a-2b1c-4d49-9d68-b4f56d63b8fa",
   "metadata": {},
   "outputs": [
    {
     "name": "stdout",
     "output_type": "stream",
     "text": [
      "Command executed successfully\n",
      "OpenStudio did not load, but most functionality is still available. Will continue...\n",
      "new project created with ID: ed016a8a-82ba-4540-85b6-bcf8a08a563a\n",
      "asked to create analysis with 2759d9be-ad17-4dde-8090-3a1184a90352\n",
      "options[:push_to_dencity] = false\n",
      "new analysis created with ID: 2759d9be-ad17-4dde-8090-3a1184a90352\n",
      "Successfully uploaded ZIP file\n",
      "Run analysis is configured with {\"analysis_action\":\"start\",\"without_delay\":false,\"analysis_type\":\"single_run\",\"simulate_data_point_filename\":\"simulate_data_point.rb\",\"run_data_point_filename\":\"run_openstudio_workflow_monthly.rb\"}\n",
      "Received request to run analysis 2759d9be-ad17-4dde-8090-3a1184a90352\n",
      "Run analysis is configured with {\"analysis_action\":\"start\",\"without_delay\":false,\"analysis_type\":\"batch_run\",\"simulate_data_point_filename\":\"simulate_data_point.rb\",\"run_data_point_filename\":\"run_openstudio_workflow_monthly.rb\"}\n",
      "Received request to run analysis 2759d9be-ad17-4dde-8090-3a1184a90352\n"
     ]
    }
   ],
   "source": [
    "require 'open3'\n",
    "\n",
    "# Make a system call to get version\n",
    "stdout, stderr, status = Open3.capture3(\"#{command}\")\n",
    "\n",
    "# Check the result\n",
    "if status.success?\n",
    "  puts \"Command executed successfully\"\n",
    "  puts stdout\n",
    "else\n",
    "  puts \"Command failed\"\n",
    "  puts stderr\n",
    "end"
   ]
  },
  {
   "cell_type": "code",
   "execution_count": null,
   "id": "c16ad946-89fe-4130-92b7-3c405fc31588",
   "metadata": {},
   "outputs": [],
   "source": []
  }
 ],
 "metadata": {
  "kernelspec": {
   "display_name": "Ruby 2.7.2",
   "language": "ruby",
   "name": "ruby"
  },
  "language_info": {
   "file_extension": ".rb",
   "mimetype": "application/x-ruby",
   "name": "ruby",
   "version": "2.7.2"
  }
 },
 "nbformat": 4,
 "nbformat_minor": 5
}
